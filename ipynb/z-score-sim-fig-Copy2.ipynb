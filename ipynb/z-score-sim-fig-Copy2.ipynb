{
 "cells": [
  {
   "cell_type": "markdown",
   "id": "d182ee7b-25ba-4ce0-b3e4-c949fc6c30be",
   "metadata": {},
   "source": [
    "**Author**: JW Debelius (justine.debelius@jhu.edu)<br>\n",
    "**Creation Date**: November 2022<br>\n",
    "**Update**: November 2024; July 2023; March 2023, 14 December 2022<br>\n",
    "<!-- **Enviroment**: python 3.8 (`qiime2-2022.2` conda based) -->"
   ]
  },
  {
   "cell_type": "markdown",
   "id": "7e316c69-1f84-4972-a832-38b9c186f019",
   "metadata": {},
   "source": []
  },
  {
   "cell_type": "code",
   "execution_count": 1,
   "id": "8043d0db-da06-4b5b-9214-ee17ee97aeaf",
   "metadata": {},
   "outputs": [],
   "source": [
    "import copy\n",
    "from functools import partial\n",
    "import itertools as it\n",
    "\n",
    "# Data handling\n",
    "import numpy as np\n",
    "import pandas as pd\n",
    "from numpy.random import choice\n",
    "\n",
    "# Statistical tests\n",
    "import statsmodels.formula.api as smf\n",
    "import statsmodels.api as sms\n",
    "import patsy\n",
    "import scipy\n",
    "from scipy.stats import t as t_dist\n",
    "\n",
    "# Displaying my data\n",
    "from matplotlib import rcParams\n",
    "import matplotlib.colors as mpc\n",
    "import matplotlib.pyplot as plt\n",
    "import matplotlib.patches as patches\n",
    "from matplotlib import ticker\n",
    "import seaborn as sn\n",
    "\n",
    "# import ptitprince as pt\n",
    "\n",
    "\n",
    "# Simulation data\n",
    "import scripts.bw_sim as bw_sim\n",
    "import scripts.bw_ana as bw_ana\n",
    "import scripts.example_plots as exp_plots\n",
    "\n",
    "rcParams['text.usetex'] = True\n",
    "\n",
    "\n",
    "from IPython.display import HTML"
   ]
  },
  {
   "cell_type": "code",
   "execution_count": 2,
   "id": "13c64c36-c161-4550-9abf-74006f211cf7",
   "metadata": {},
   "outputs": [],
   "source": [
    "%matplotlib inline"
   ]
  },
  {
   "cell_type": "code",
   "execution_count": 3,
   "id": "65cc5cdb-a750-4c16-9574-48a92a3958da",
   "metadata": {},
   "outputs": [],
   "source": [
    "np.random.seed(1899)"
   ]
  },
  {
   "cell_type": "code",
   "execution_count": 4,
   "id": "9da291b1-8d31-4d88-96fb-f3f24863a23f",
   "metadata": {},
   "outputs": [],
   "source": [
    "import warnings\n",
    "from statsmodels.tools.sm_exceptions import (ConvergenceWarning,\n",
    "                                             IterationLimitWarning)\n",
    "warnings.filterwarnings(\"ignore\", category=ConvergenceWarning)\n",
    "warnings.filterwarnings(\"ignore\", category=IterationLimitWarning)\n",
    "warnings.filterwarnings(\"ignore\", category=RuntimeWarning)"
   ]
  },
  {
   "cell_type": "markdown",
   "id": "3417f80f-63f3-4f33-a26d-50a4ef39ca11",
   "metadata": {},
   "source": [
    "# Introduction"
   ]
  },
  {
   "cell_type": "markdown",
   "id": "5ae4e221-88a2-4111-b6f5-9db6199de10e",
   "metadata": {},
   "source": [
    "I need to write this."
   ]
  },
  {
   "cell_type": "markdown",
   "id": "42423b99-5adb-4aa3-afc8-cd9127b9fd80",
   "metadata": {},
   "source": [
    "# Data Modeling"
   ]
  },
  {
   "cell_type": "markdown",
   "id": "c9a6d7ef-9005-4ecf-87a1-570130558012",
   "metadata": {},
   "source": [
    "## Models"
   ]
  },
  {
   "cell_type": "markdown",
   "id": "8c37684e-85ab-4f4d-9666-465730cc0097",
   "metadata": {},
   "source": [
    "One the data gets simulated and fitted, it needs to be modeled. We'll work with 6 models initially:\n",
    "\n",
    "| Model name | Cohort handling | Core model | Notes | \n",
    "| --- | --- | --- | --- |\n",
    "| ignore | ignores cohort effects | y = smoking | -- |\n",
    "| fixed | cohort as fixed effect | y = smoking + cohort | -- |\n",
    "| gee | cohort as group | y = smoking \\| cohort |  equal covariance matrix |\n",
    "| lme | cohort as random effect | y = smoking \\| cohort | -- |\n",
    "| meta | pooling of per-cohort effects | (y = smoking) for each cohort | cohort size weighting still an issue |\n",
    "| risk | pools by cohort type | (y = smoking) \\| cohort_type | only for sim 3|\n",
    "\n",
    "\n",
    "There's a set of consistent functions to do this. Each model takes the seed ICC value (from the simulated data), the data itself, and a matrix to adjust for any confounders. Each function returns the ICC, fit(s), fit parameters, whether the model converged, and a name. "
   ]
  },
  {
   "cell_type": "code",
   "execution_count": 5,
   "id": "e811c7bb-3d25-406c-928f-20b4c5a0f990",
   "metadata": {},
   "outputs": [],
   "source": [
    "models = [bw_ana.ignore_cohort, \n",
    "          partial(bw_ana.lme_group, risk_='cohort_type'),\n",
    "          bw_ana.fixed_cohort, \n",
    "          bw_ana.gee_cohort, \n",
    "          bw_ana.lme_cohort, \n",
    "          bw_ana.meta_cohort,\n",
    "         ]\n",
    "tech_order = ['ignore',  'risk', 'fixed', 'gee', 'lme', 'meta',]\n",
    "tidy_short = {'gee': 'GEE', \n",
    "              'lme': 'LME', \n",
    "              'meta': 'Meta-\\nAnalysis',\n",
    "              'risk': 'Cohort\\nType',\n",
    "              }\n",
    "tidy_long = {'gee': 'GEE by cohort',\n",
    "             'lme': 'LME, random cohort',\n",
    "             'fixed': 'adjusted for cohort',\n",
    "             'ignore': 'no cohort effect',\n",
    "             'meta': 'meta analysis',\n",
    "             'risk': 'random cohort type',\n",
    "            }"
   ]
  },
  {
   "cell_type": "markdown",
   "id": "9368dd35-c272-43a5-8921-095cdb724306",
   "metadata": {},
   "source": [
    "## Filters"
   ]
  },
  {
   "cell_type": "markdown",
   "id": "51b2ec61-9a84-469c-8ca1-508b9358015a",
   "metadata": {},
   "source": [
    "I want to try filtering the data in 7 ways for each model:\n",
    "\n",
    "1. No filter\n",
    "2. Drop out small cohort sizes (<n=30)\n",
    "3. Drop out cohorts with no exposure contrast (either no smokers or all smokers)\n",
    "4. Drop out small cohorts and no exposure contrasts\n",
    "5. Drop out non-general cohorts\n",
    "6. Drop out small cohorts, non-general cohorts, and all or non exposed cohorts.\n",
    "6. Drop out cohorts without the racial group \"1\". This is a control filter since it shouldn't affect the exposure-outcome relationship estimate.\n"
   ]
  },
  {
   "cell_type": "code",
   "execution_count": 6,
   "id": "e19087f1-b6d1-44c0-b45a-da2b7f7c60a5",
   "metadata": {},
   "outputs": [],
   "source": [
    "def no_filter(data):\n",
    "    \"\"\"\n",
    "    Filters the data but removed no cohorts\n",
    "    \"\"\"\n",
    "    return data\n",
    "\n",
    "def filter_small(data, thresh=30):\n",
    "    \"\"\"\n",
    "    Filters data to remove small cohorts\n",
    "    \"\"\"\n",
    "    cohort_size = data['cohort'].value_counts()\n",
    "    keep_cohorts = cohort_size.index[cohort_size > thresh]\n",
    "    return data.loc[data['cohort'].isin(keep_cohorts)].copy()\n",
    "\n",
    "def filter_only(data):\n",
    "    \"\"\"\n",
    "    Filters cohorts that have either all or no participants exposed\n",
    "    \"\"\"\n",
    "    smoke_ = pd.DataFrame.from_dict(\n",
    "        orient='columns',\n",
    "        data={\n",
    "            'smoke_none': data.set_index('cohort')['smoking'] == 0,\n",
    "            'smoke_all': data.set_index('cohort')['smoking'] == 1\n",
    "            }\n",
    "    )\n",
    "    smoke_ = smoke_.groupby('cohort').all().any(axis=1)\n",
    "    var_ = smoke_.index[smoke_ == False]\n",
    "        \n",
    "    return data.loc[data['cohort'].isin(var_)].copy()   \n",
    "\n",
    "def filter_type(data):\n",
    "    \"\"\"\n",
    "    Filters to keep only the general cohorts\n",
    "    \"\"\"\n",
    "    return data.loc[data['cohort_type'] == 0].copy()\n",
    "\n",
    "def filter_both(data, thresh=30):\n",
    "    \"\"\"\n",
    "    Filters based on the size and presence of results\n",
    "    \"\"\"\n",
    "    data = filter_type(filter_only(filter_small(data.copy(), thresh=thresh)))\n",
    "    return data\n",
    "\n",
    "def filter_other_group(data):\n",
    "    \"\"\"\n",
    "    Filters out cohorts that are missing a differnt demographic group\n",
    "    \"\"\"\n",
    "    race_check = data.set_index('cohort')['race'].isin(['1', 1])\n",
    "    race_check = race_check.groupby('cohort').any()\n",
    "    race_check = race_check.index[race_check]\n",
    "    \n",
    "    data = data.loc[data['cohort'].isin(race_check)].copy()\n",
    "    \n",
    "    return data"
   ]
  },
  {
   "cell_type": "code",
   "execution_count": 7,
   "id": "637a8188-8b3b-4c60-9e38-771b3c1a0612",
   "metadata": {},
   "outputs": [],
   "source": [
    "filters = {\n",
    "    'none': no_filter,\n",
    "    'small': filter_small,\n",
    "    'only': filter_only,\n",
    "    'all': filter_both,\n",
    "    'general': filter_type,\n",
    "    'other': filter_other_group,\n",
    "    }\n",
    "filter_order = ['none', 'small', 'only', 'general',  'all', 'other']\n",
    "filter_tidy = {'small': 'n≥30', 'only': 'mixed exp'}"
   ]
  },
  {
   "cell_type": "markdown",
   "id": "1ffaf085-4f3a-4eac-bdaf-134ac6cd2f7c",
   "metadata": {},
   "source": [
    "# Simulation Set Up"
   ]
  },
  {
   "cell_type": "markdown",
   "id": "e57b2b67-0b4e-40c1-b2f6-5194d23cb6f1",
   "metadata": {
    "tags": []
   },
   "source": [
    "## Simulation Parameters"
   ]
  },
  {
   "cell_type": "markdown",
   "id": "29cf8f90-2d4e-452c-a2aa-384962ae9fb1",
   "metadata": {
    "tags": []
   },
   "source": [
    "### Demographics"
   ]
  },
  {
   "cell_type": "markdown",
   "id": "4259502e-ff92-41b6-95cc-e7ea777b49bd",
   "metadata": {},
   "source": [
    "We're interested in 3 categorical demographic confounders. For each of these, we'll build a set of cohort distribution seeds that can be drawn for each simulation "
   ]
  },
  {
   "cell_type": "markdown",
   "id": "ab11f619-8279-4341-ac39-9947051ad238",
   "metadata": {},
   "source": [
    "#### Race"
   ]
  },
  {
   "cell_type": "markdown",
   "id": "26e1191c-09e3-4535-9257-7ebacc74ae79",
   "metadata": {},
   "source": [
    "Race is a 4 level covariant with 5 potential seed distributions\n",
    "\n",
    "| Seed set | Seed probability     | 0     | 1      | 2     | 3     |\n",
    "| ------   | ----- | ----- | ------ | ----- | ----- |\n",
    "| Seed 1   | 1 / 6 | 40.0% | 30.0%  | 20.0% | 10.0% |\n",
    "| Seed 2   | 1 / 6 | 50.0% | 50.0%  |  0.0% |  0.0% |\n",
    "| Seed 3   | 1 / 6 | 33.3% | 66.7%  |  0.0% |  0.0% |\n",
    "| Seed 4   | 1 / 6 | 14.3% | 14.3%  | 57.1% | 14.3% |\n",
    "| Seed 5   | 1 / 6 | 70.0% | 10.0%  | 10.0% | 10.0% |\n",
    "| Seed 6   | 1 / 6 |  0.0% | 100.0% |  0.0% |  0.0% | "
   ]
  },
  {
   "cell_type": "code",
   "execution_count": 8,
   "id": "85f0ab3d-7a6b-4cd9-b3d3-c404b0b4bf07",
   "metadata": {},
   "outputs": [],
   "source": [
    "race_seeds = [\n",
    "    partial(choice, p=np.array([4, 3, 2, 1]) / 10, a=np.arange(4), replace=True),\n",
    "    partial(choice, p=np.array([5, 5, 0, 0]) / 10, a=np.arange(4), replace=True),\n",
    "    partial(choice, p=np.array([1, 2, 0, 0]) / 3, a=np.arange(4), replace=True),\n",
    "    partial(choice, p=np.array([1, 1, 4, 1]) / 7, a=np.arange(4), replace=True),\n",
    "    partial(choice, p=np.array([7, 1, 1, 1]) / 10, a=np.arange(4), replace=True),\n",
    "    partial(choice, p=np.array([0, 1, 0, 0]), a=np.arange(4), replace=True),\n",
    "    partial(choice, p=np.array([0, 0, 0, 1]), a=np.arange(4), replace=True),\n",
    "    ]\n",
    "race_weights = np.hstack([np.ones(len(race_seeds) - 1), 0])\n",
    "race_weights = race_weights / race_weights.sum()"
   ]
  },
  {
   "cell_type": "markdown",
   "id": "aa7592ed-0f4c-4a53-b664-974499b95178",
   "metadata": {},
   "source": [
    "#### Ethnicity"
   ]
  },
  {
   "cell_type": "markdown",
   "id": "ffcdfb17-ecb6-4461-97a6-552abe2aa939",
   "metadata": {},
   "source": [
    "Ethnicity is a 2 level covariant, and we have 5 distributions\n",
    "\n",
    "| Seed set | Seed probability |   0    |   1    |\n",
    "| -------- | ---------------- | ------ | ------ |\n",
    "| Set 1    | 1 / 5            |  80.0% | 20.0%  |\n",
    "| Set 2    | 1 / 5            | 100.0% |  0.0%  |\n",
    "| Set 3    | 1 / 5            |   0.0% | 100.0% |\n",
    "| Set 4    | 1 / 5            |  50.0% |  50.0% |\n",
    "| Set 5    | 1 / 5            |  80.0% |  20.0% |"
   ]
  },
  {
   "cell_type": "code",
   "execution_count": 9,
   "id": "08bf8727-97d3-4dfe-afbc-9135e9251d0f",
   "metadata": {},
   "outputs": [],
   "source": [
    "eth_seeds = [\n",
    "    partial(choice, a=np.arange(2), replace=True, p=np.array([0.8, 0.2])),\n",
    "    partial(choice, a=np.arange(2), replace=True, p=np.array([1.0, 0.0])),\n",
    "    partial(choice, a=np.arange(2), replace=True, p=np.array([0.0, 1.0])),\n",
    "    partial(choice, a=np.arange(2), replace=True, p=np.array([0.5, 0.5])),\n",
    "    partial(choice, a=np.arange(2), replace=True, p=np.array([0.2, 0.8])),\n",
    "]\n",
    "eth_weights = np.ones(len(eth_seeds)) / len(eth_seeds)\n"
   ]
  },
  {
   "cell_type": "markdown",
   "id": "39a8d16f-128b-4fd8-9876-6def874dcea3",
   "metadata": {},
   "source": [
    "#### Sex "
   ]
  },
  {
   "cell_type": "markdown",
   "id": "f8ac0349-fd30-4cd8-9fb3-f927861013b3",
   "metadata": {},
   "source": [
    "Sex is a 2 level categorical covariant. \n",
    "\n",
    "| Set seed | Seed Probability |    0   |    1   |\n",
    "| -------- | ---------------- | ------ | ------ | \n",
    "| Balanced | 17 / 20          |  50.0% |  50.0% |\n",
    "| Girls    |  1 / 20          | 100.0% |   0.0% |\n",
    "| Boys     |  1 / 20          |   0.0% | 100.0% |\n",
    "| Sex linked risk |  1 / 20          |  20.0% |  80.0% |"
   ]
  },
  {
   "cell_type": "code",
   "execution_count": 10,
   "id": "479076d8-d38c-4a30-9e5a-144fb193b299",
   "metadata": {},
   "outputs": [],
   "source": [
    "sex_seeds = [\n",
    "    partial(choice, a=np.arange(2), replace=True, p=np.array([0.5, 0.5])),\n",
    "    partial(choice, a=np.arange(2), replace=True, p=np.array([1.0, 0.0])),\n",
    "    partial(choice, a=np.arange(2), replace=True, p=np.array([0.0, 1.0])),\n",
    "    partial(choice, a=np.arange(2), replace=True, p=np.array([0.2, 0.8])),\n",
    "]\n",
    "sex_weights = np.array([0.85, 0.05, 0.05, 0.05])"
   ]
  },
  {
   "cell_type": "markdown",
   "id": "2b61fad4-d830-482a-930e-be4e3c623f31",
   "metadata": {},
   "source": [
    "#### Maternal Age"
   ]
  },
  {
   "cell_type": "markdown",
   "id": "d015a3a0-a2fb-4e75-97e6-d3e08676f5e6",
   "metadata": {},
   "source": [
    "The maternal age is continuous and normally distributed, bounded between 18 and 42 years of age. (This is 2 standard deviations for a mean of 30 and a standard deviation of 5 years, which closely corresponds to the underlying ECHO data.) For this we set up 4 seeds: \n",
    "\n",
    "| Set Seed | Seed Probability | mean | std | limits   | \n",
    "| -------- | ---------------- | ---- | --- | -------- | \n",
    "| General  | 6 / 10           |  30  |  5  | (18, 42) | \n",
    "| Young    | 1 / 10           |  24  |  3  | (18, 30) |\n",
    "| Low risk | 1 / 10           |  27  |  5  | (18, 35) |\n",
    "| Older    | 2 / 10           |  37  |  3  | (35, 42) |"
   ]
  },
  {
   "cell_type": "code",
   "execution_count": 11,
   "id": "a3948b69-c2fe-4303-95d5-c829fa5d944d",
   "metadata": {},
   "outputs": [],
   "source": [
    "def sim_normal(mean, std, size, cut_lo=18, cut_hi=42):\n",
    "    \"\"\"\n",
    "    Simulates a normal distribution\n",
    "    \"\"\"\n",
    "    dist = np.round(np.random.normal(size=size) * std, 0)\n",
    "    dist = dist + mean\n",
    "    dist[dist < cut_lo] = cut_lo\n",
    "    dist[dist > cut_hi] = cut_hi\n",
    "    \n",
    "    return dist.astype(int)\n",
    "mage_seeds = [\n",
    "    partial(sim_normal, mean=30, std=5, cut_lo=18, cut_hi=42),\n",
    "    partial(sim_normal, mean=24, std=3, cut_lo=18, cut_hi=30),\n",
    "    partial(sim_normal, mean=27, std=5, cut_lo=18, cut_hi=35),\n",
    "    partial(sim_normal, mean=37, std=3, cut_lo=35, cut_hi=42),\n",
    "    ]\n",
    "mage_weights = np.array([6, 1, 1, 2]) / 10"
   ]
  },
  {
   "cell_type": "markdown",
   "id": "ceae020c-17d1-479a-bb2c-b3399c79653f",
   "metadata": {
    "tags": []
   },
   "source": [
    "#### Cohort duration"
   ]
  },
  {
   "cell_type": "markdown",
   "id": "e6df3ff0-6888-4942-9448-444ada1b2834",
   "metadata": {},
   "source": [
    "The overall study is assumed to have been conducted over the course of 20 years. For this, we dont assume any duration time and instead simulate a random starting seed between 0 and 18 years (uniform) and then a duration, starting from a random normal distribution of 5 years (3 year variation), although all studies end at year 20."
   ]
  },
  {
   "cell_type": "code",
   "execution_count": 12,
   "id": "6c418d12-c16f-4a07-afa1-6dac1d7a7270",
   "metadata": {},
   "outputs": [],
   "source": [
    "def build_years():\n",
    "    \"\"\"\n",
    "    A simple function to randomly simulate a year range\n",
    "    \"\"\"\n",
    "    start_ = np.floor(np.random.uniform(low=0, high=18, size=1))\n",
    "    dur_ = np.round(np.absolute(np.random.normal(1) * 3 + 5), 0)\n",
    "    dur_ = min((20 - start_), dur_)\n",
    "    \n",
    "    return {'min_': start_[0], 'max_': (start_ + dur_)[0]}"
   ]
  },
  {
   "cell_type": "code",
   "execution_count": 13,
   "id": "be0cbad8-21e1-469f-aada-c107b17c1fa1",
   "metadata": {},
   "outputs": [],
   "source": [
    "def sim_uniform(min_, max_, size, cut_lo=0, cut_hi=20):\n",
    "    \"\"\"\n",
    "    Simulates a unifrom distribution with integer values\n",
    "    \"\"\"\n",
    "    dist = np.random.uniform(min_, max_, size=size)\n",
    "    dist = np.round(dist, 0)\n",
    "    dist[dist < cut_lo] = cut_lo\n",
    "    dist[dist > cut_hi] = cut_hi\n",
    "    \n",
    "    return dist.astype(int)"
   ]
  },
  {
   "cell_type": "markdown",
   "id": "ae532f00-b182-4116-be1c-6df29fc26a82",
   "metadata": {
    "tags": []
   },
   "source": [
    "### Outcome Enrichment and Cohort Selection"
   ]
  },
  {
   "cell_type": "markdown",
   "id": "e9201cc9-5c0f-41c5-b802-8fa0fea637da",
   "metadata": {},
   "source": [
    "For a set of simulations, we'll simulate two cohort types, which are proxies for the ECHO general and NICU cohorts, or let us approximate outcome enriched cohorts. We'll assume that the outcome enrichment"
   ]
  },
  {
   "cell_type": "code",
   "execution_count": 14,
   "id": "74b8f930-0de2-4bf0-a187-8506d08e3a56",
   "metadata": {},
   "outputs": [],
   "source": [
    "out_types = [0, 1]\n",
    "out_weights = [0.8, 0.2]"
   ]
  },
  {
   "cell_type": "code",
   "execution_count": 15,
   "id": "d1c3e01a-fb7a-4bbc-8c6b-bfb2367f8872",
   "metadata": {},
   "outputs": [
    {
     "data": {
      "text/html": [
       "<table border=\"1\" class=\"dataframe\">\n",
       "  <thead>\n",
       "    <tr style=\"text-align: right;\">\n",
       "      <th></th>\n",
       "      <th>cohort weight</th>\n",
       "    </tr>\n",
       "    <tr>\n",
       "      <th>cohort type</th>\n",
       "      <th></th>\n",
       "    </tr>\n",
       "  </thead>\n",
       "  <tbody>\n",
       "    <tr>\n",
       "      <th>0</th>\n",
       "      <td>0.8</td>\n",
       "    </tr>\n",
       "    <tr>\n",
       "      <th>1</th>\n",
       "      <td>0.2</td>\n",
       "    </tr>\n",
       "  </tbody>\n",
       "</table>"
      ],
      "text/plain": [
       "<IPython.core.display.HTML object>"
      ]
     },
     "execution_count": 15,
     "metadata": {},
     "output_type": "execute_result"
    }
   ],
   "source": [
    "HTML(pd.DataFrame(data={'cohort weight': out_weights},\n",
    "                  index=pd.Index(out_types, name='cohort type')\n",
    "                  ).to_html())"
   ]
  },
  {
   "cell_type": "markdown",
   "id": "2a59f97e-6805-4697-81f5-1d5d0cbdf01b",
   "metadata": {
    "tags": []
   },
   "source": [
    "### Cohort Size"
   ]
  },
  {
   "cell_type": "markdown",
   "id": "70e8c987-a1de-4643-b535-0ec9e1d2bec6",
   "metadata": {},
   "source": [
    "For the sizes, we assume that if the cohorts are uniform, we'll return a cohort of ~250 participants.\n",
    "\n",
    "For non-uniform cohorts, we simulate the probability that a cohort is of small, medium or large size based on seed probabilities for the cohort size; use this to select a number of trials for a anegative binomial distribution, draw the p-value from a normal distribution, and then use that negative binomial to simulate a sample size."
   ]
  },
  {
   "cell_type": "code",
   "execution_count": 16,
   "id": "9ebbd71e-12cd-4f1f-98ed-ccaaeacbcca9",
   "metadata": {},
   "outputs": [],
   "source": [
    "def uniform_sizes(n_cohorts, size=250):\n",
    "    \"\"\"\n",
    "    Generates cohort sizes for uniform cohorts\n",
    "    \"\"\"\n",
    "    print('uniform sizes')\n",
    "    sizes = np.ones((n_cohorts,), dtype=int) * size\n",
    "    for s in sizes:\n",
    "        yield s\n",
    "\n",
    "\n",
    "def vary_sizes(n_cohorts, p_low=0.1, p_hi=0.20):\n",
    "    \"\"\"\n",
    "    Generates cohort sizes based on a random distribution\n",
    "    \"\"\"\n",
    "    print('vary sizes')\n",
    "    # Cohort size (low, medium or large)\n",
    "    n_seeds = np.random.multinomial(\n",
    "        n=1, pvals=np.array([p_low, 1-(p_low + p_hi), p_hi]), \n",
    "        size=n_cohorts) * np.array([0, 1, 4])\n",
    "    # Scales the cohort size factor for the different cohort sizes\n",
    "    n_seeds = np.sum(n_seeds, axis=1) *  90 + 10 + \\\n",
    "        30 * (np.sum(n_seeds, axis=1) > 1)\n",
    "    # Simulates the cohort-specific probaility \n",
    "    p = np.absolute(np.random.normal(size=n_cohorts) * 0.1) + 0.2\n",
    "\n",
    "    # Draws the samples using a negative binomal\n",
    "    sizes = np.random.negative_binomial(n=n_seeds, p=p, size=n_cohorts)\n",
    "    sizes = np.round(sizes, 0)\n",
    "\n",
    "    return sizes"
   ]
  },
  {
   "cell_type": "markdown",
   "id": "85d08d33-dc61-40a6-86f4-65106f9d5d12",
   "metadata": {
    "tags": []
   },
   "source": [
    "### Exposure Type"
   ]
  },
  {
   "cell_type": "markdown",
   "id": "2b5d6b17-a1e5-4661-90f0-f5d2c38e7553",
   "metadata": {},
   "source": [
    "We'll set up four potential scenarios for exposure: a population-based rate, no exposed, 50% exposed and all exposed. Within the selection, we'll try to get 5% of cohorts as either totally exposed or totally unexposed."
   ]
  },
  {
   "cell_type": "code",
   "execution_count": 17,
   "id": "24704801-850b-4a86-a24c-cde8de9e7603",
   "metadata": {},
   "outputs": [],
   "source": [
    "exposure_group = np.arange(4)\n",
    "exposure_weight = np.array([17, 1, 1, 1]) / 20\n",
    "\n",
    "exposure_prob = np.array([0, 1, 2, 3])"
   ]
  },
  {
   "cell_type": "markdown",
   "id": "4d385507-4c7f-47d3-b3b6-6ff45c633a73",
   "metadata": {},
   "source": [
    "And then we set up factors to modify the population-specific probability, leading to confounding. \n",
    "\n",
    "We calculate the smoking probability as \n",
    "\n",
    "$$\n",
    "p_{indv} = p_{pop}(1 + \\sum{\\beta_{i}x_{i}})\n",
    "$$"
   ]
  },
  {
   "cell_type": "code",
   "execution_count": 18,
   "id": "a7c48a5d-9222-4d9c-a05b-fa4e41b816d6",
   "metadata": {},
   "outputs": [
    {
     "data": {
      "text/html": [
       "<table border=\"1\" class=\"dataframe\">\n",
       "  <thead>\n",
       "    <tr style=\"text-align: right;\">\n",
       "      <th></th>\n",
       "      <th>0</th>\n",
       "    </tr>\n",
       "  </thead>\n",
       "  <tbody>\n",
       "    <tr>\n",
       "      <th>C(race)[T.1]</th>\n",
       "      <td>0.150</td>\n",
       "    </tr>\n",
       "    <tr>\n",
       "      <th>C(race)[T.2]</th>\n",
       "      <td>-0.050</td>\n",
       "    </tr>\n",
       "    <tr>\n",
       "      <th>C(race)[T.3]</th>\n",
       "      <td>0.150</td>\n",
       "    </tr>\n",
       "    <tr>\n",
       "      <th>C(ethnicity)[T.1]</th>\n",
       "      <td>-0.300</td>\n",
       "    </tr>\n",
       "    <tr>\n",
       "      <th>year</th>\n",
       "      <td>-0.005</td>\n",
       "    </tr>\n",
       "    <tr>\n",
       "      <th>m_age</th>\n",
       "      <td>0.010</td>\n",
       "    </tr>\n",
       "  </tbody>\n",
       "</table>"
      ],
      "text/plain": [
       "<IPython.core.display.HTML object>"
      ]
     },
     "execution_count": 18,
     "metadata": {},
     "output_type": "execute_result"
    }
   ],
   "source": [
    "smoking_effect = pd.Series({\n",
    "     'C(race)[T.1]': 0.15,\n",
    "     'C(race)[T.2]': -0.05,\n",
    "     'C(race)[T.3]': 0.15,\n",
    "     'C(ethnicity)[T.1]': -0.3,\n",
    "     'year': -0.005,\n",
    "     'm_age': 0.01\n",
    "})\n",
    "HTML(smoking_effect.to_frame().to_html())"
   ]
  },
  {
   "cell_type": "markdown",
   "id": "50a38d33-12c6-4d62-b50a-c620f5f29d1c",
   "metadata": {
    "tags": []
   },
   "source": [
    "### Outcome Simulation"
   ]
  },
  {
   "cell_type": "markdown",
   "id": "2f2f54bf-bbe3-4711-b46f-4506faaf6dae",
   "metadata": {},
   "source": [
    "#### Confounders"
   ]
  },
  {
   "cell_type": "markdown",
   "id": "22acb3f3-daf0-4c6e-87af-ae0771dc9f2f",
   "metadata": {},
   "source": [
    "For the outcome, we'll start with a set of confounders. These are coded based on the way the python code expands the covariates, which is why the levels here are slightly different than other places."
   ]
  },
  {
   "cell_type": "code",
   "execution_count": 19,
   "id": "6d864060-2d68-4490-9b55-f0fc6c273fca",
   "metadata": {},
   "outputs": [
    {
     "data": {
      "text/html": [
       "<table border=\"1\" class=\"dataframe\">\n",
       "  <thead>\n",
       "    <tr style=\"text-align: right;\">\n",
       "      <th></th>\n",
       "      <th>$\\beta$</th>\n",
       "    </tr>\n",
       "  </thead>\n",
       "  <tbody>\n",
       "    <tr>\n",
       "      <th>Intercept</th>\n",
       "      <td>0.000</td>\n",
       "    </tr>\n",
       "    <tr>\n",
       "      <th>C(sex)[T.1]</th>\n",
       "      <td>0.500</td>\n",
       "    </tr>\n",
       "    <tr>\n",
       "      <th>C(race)[T.1]</th>\n",
       "      <td>-2.000</td>\n",
       "    </tr>\n",
       "    <tr>\n",
       "      <th>C(race)[T.2]</th>\n",
       "      <td>-2.000</td>\n",
       "    </tr>\n",
       "    <tr>\n",
       "      <th>C(race)[T.3]</th>\n",
       "      <td>1.000</td>\n",
       "    </tr>\n",
       "    <tr>\n",
       "      <th>C(ethnicity)[T.1]</th>\n",
       "      <td>-0.250</td>\n",
       "    </tr>\n",
       "    <tr>\n",
       "      <th>year</th>\n",
       "      <td>-0.025</td>\n",
       "    </tr>\n",
       "    <tr>\n",
       "      <th>m_age</th>\n",
       "      <td>0.025</td>\n",
       "    </tr>\n",
       "  </tbody>\n",
       "</table>"
      ],
      "text/plain": [
       "<IPython.core.display.HTML object>"
      ]
     },
     "execution_count": 19,
     "metadata": {},
     "output_type": "execute_result"
    }
   ],
   "source": [
    "slopes = pd.Series({\n",
    "    'Intercept': 0,\n",
    "    'C(sex)[T.1]': 0.5,\n",
    "     'C(race)[T.1]': -2,\n",
    "     'C(race)[T.2]': -2,\n",
    "     'C(race)[T.3]': 1,\n",
    "     'C(ethnicity)[T.1]': -0.25,\n",
    "     'year': -0.025,\n",
    "     'm_age': 0.025,\n",
    "})\n",
    "HTML(slopes.to_frame().rename(columns={0: '$\\\\beta$'}).to_html())"
   ]
  },
  {
   "cell_type": "markdown",
   "id": "33bb8d53-0c64-4871-97ae-e434dac8165e",
   "metadata": {},
   "source": [
    "#### Exposure Effect"
   ]
  },
  {
   "cell_type": "markdown",
   "id": "90a80938-e965-40f1-a1e3-1a8aba9603b1",
   "metadata": {},
   "source": [
    "I want the potential for a small and large effect size, which might modify the effect"
   ]
  },
  {
   "cell_type": "code",
   "execution_count": 20,
   "id": "19ef0516-10f7-43a2-a465-d9733f72badb",
   "metadata": {},
   "outputs": [
    {
     "name": "stdout",
     "output_type": "stream",
     "text": [
      "Effect sizes: -0.1, -0.5\n"
     ]
    }
   ],
   "source": [
    "effects = np.array([-0.1, -0.5])\n",
    "print('Effect sizes:', ', '.join(effects.astype(str)))"
   ]
  },
  {
   "cell_type": "markdown",
   "id": "9a8e1824-4d83-499a-abf3-6146348490fe",
   "metadata": {
    "tags": []
   },
   "source": [
    "#### Cohort Type"
   ]
  },
  {
   "cell_type": "markdown",
   "id": "cc2f7f9a-de03-481e-9870-6e1015a27da8",
   "metadata": {},
   "source": [
    "I want to have an option where we either have a consistent slope by cohort type, where the NICU children are low birth weight (in this case, 2 standard deviations lower than the general cohorts). We'll code general cohorts as \"0\" and preterm as \"1\""
   ]
  },
  {
   "cell_type": "code",
   "execution_count": 21,
   "id": "55e3f182-01a2-4ca0-92a1-618707160e0b",
   "metadata": {},
   "outputs": [
    {
     "data": {
      "text/html": [
       "<table border=\"1\" class=\"dataframe\">\n",
       "  <thead>\n",
       "    <tr style=\"text-align: right;\">\n",
       "      <th></th>\n",
       "      <th>effect</th>\n",
       "    </tr>\n",
       "  </thead>\n",
       "  <tbody>\n",
       "    <tr>\n",
       "      <th>0</th>\n",
       "      <td>0</td>\n",
       "    </tr>\n",
       "    <tr>\n",
       "      <th>1</th>\n",
       "      <td>-3</td>\n",
       "    </tr>\n",
       "  </tbody>\n",
       "</table>"
      ],
      "text/plain": [
       "<IPython.core.display.HTML object>"
      ]
     },
     "execution_count": 21,
     "metadata": {},
     "output_type": "execute_result"
    }
   ],
   "source": [
    "type_slope = {0: 0, 1: -3}\n",
    "HTML(pd.Series(type_slope, name='effect').to_frame().to_html())"
   ]
  },
  {
   "cell_type": "markdown",
   "id": "ff8b4808-3004-4581-907d-6569d1a0232a",
   "metadata": {},
   "source": [
    "#### Cohort Error"
   ]
  },
  {
   "cell_type": "markdown",
   "id": "50dc2bd8-cc6f-4a29-bdeb-f47569b30224",
   "metadata": {},
   "source": [
    "To be able to have an interclass correlation, we add a random  error term for the cohort, representing a random intercept, which has a mean of 0 and a variance term, $\\sigma^{2}_{cohort}$, which is related to the ICC estimated for the data. I want to set the possible ICC values so we can check how the variation happens.\n",
    "\n",
    "There's a pre-written function, `convert_icc_to_g_var_no_slope` which converts a seed ICC to an appropriate $\\sigma^{2}_{cohort}$ value."
   ]
  },
  {
   "cell_type": "code",
   "execution_count": 22,
   "id": "2965a24f-aa02-4173-b6af-1160c4558778",
   "metadata": {},
   "outputs": [
    {
     "data": {
      "text/html": [
       "<table border=\"1\" class=\"dataframe\">\n",
       "  <thead>\n",
       "    <tr style=\"text-align: right;\">\n",
       "      <th></th>\n",
       "      <th>std</th>\n",
       "    </tr>\n",
       "    <tr>\n",
       "      <th>icc</th>\n",
       "      <th></th>\n",
       "    </tr>\n",
       "  </thead>\n",
       "  <tbody>\n",
       "    <tr>\n",
       "      <th>0.000</th>\n",
       "      <td>0.000000</td>\n",
       "    </tr>\n",
       "    <tr>\n",
       "      <th>0.005</th>\n",
       "      <td>0.070888</td>\n",
       "    </tr>\n",
       "    <tr>\n",
       "      <th>0.010</th>\n",
       "      <td>0.100504</td>\n",
       "    </tr>\n",
       "    <tr>\n",
       "      <th>0.050</th>\n",
       "      <td>0.229416</td>\n",
       "    </tr>\n",
       "    <tr>\n",
       "      <th>0.100</th>\n",
       "      <td>0.333333</td>\n",
       "    </tr>\n",
       "    <tr>\n",
       "      <th>0.150</th>\n",
       "      <td>0.420084</td>\n",
       "    </tr>\n",
       "    <tr>\n",
       "      <th>0.400</th>\n",
       "      <td>0.816497</td>\n",
       "    </tr>\n",
       "    <tr>\n",
       "      <th>0.700</th>\n",
       "      <td>1.527525</td>\n",
       "    </tr>\n",
       "    <tr>\n",
       "      <th>0.900</th>\n",
       "      <td>3.000000</td>\n",
       "    </tr>\n",
       "  </tbody>\n",
       "</table>"
      ],
      "text/plain": [
       "<IPython.core.display.HTML object>"
      ]
     },
     "execution_count": 22,
     "metadata": {},
     "output_type": "execute_result"
    }
   ],
   "source": [
    "goal_iccs = [0, 0.005, 0.01, 0.05, 0.1, 0.15, 0.4, 0.7, 0.9]\n",
    "\n",
    "seed_var = {icc: bw_ana.convert_icc_to_g_var_no_slope(icc)\n",
    "            for icc in goal_iccs}\n",
    "icc_frame = pd.Series(seed_var).to_frame().rename(columns={0: 'std'})\n",
    "icc_frame.index.set_names('icc', inplace=True)\n",
    "HTML(icc_frame.to_html())"
   ]
  },
  {
   "cell_type": "markdown",
   "id": "4b316d6c-8318-46c2-9480-a24593e5df47",
   "metadata": {},
   "source": [
    "We also potentially want a scenario where we add a random slope. I'm struggling a little bit with a functiont to do this prediction, but I'll try "
   ]
  },
  {
   "cell_type": "markdown",
   "id": "ea798f1a-6241-497b-9d40-60e84f2c7c5f",
   "metadata": {},
   "source": [
    "#### Individual Effects"
   ]
  },
  {
   "cell_type": "markdown",
   "id": "753278dc-d4ea-467a-8c28-dfe27ba9e650",
   "metadata": {},
   "source": [
    "We'll use a variance effect of 1."
   ]
  },
  {
   "cell_type": "code",
   "execution_count": 23,
   "id": "3210f885-a2da-4b2c-8142-91c9c5cdd782",
   "metadata": {},
   "outputs": [
    {
     "name": "stdout",
     "output_type": "stream",
     "text": [
      "Individual Variance = 1.0\n"
     ]
    }
   ],
   "source": [
    "indv_var = 1\n",
    "print(f'Individual Variance = {indv_var:1.1f}')"
   ]
  },
  {
   "cell_type": "markdown",
   "id": "59778458-a2a8-44ac-a2de-2e0fb0cb85a4",
   "metadata": {
    "tags": []
   },
   "source": [
    "# Simulation Scenarios"
   ]
  },
  {
   "cell_type": "markdown",
   "id": "9a4d24d9-c543-46a2-b59b-5b5dafb14766",
   "metadata": {},
   "source": [
    "Next, we'll set up different simulation scenarios. ..."
   ]
  },
  {
   "cell_type": "code",
   "execution_count": 24,
   "id": "77c66e8f-3b97-4196-829f-45c0c5dd6f56",
   "metadata": {},
   "outputs": [],
   "source": [
    "def build_sim_params(num_cohorts,\n",
    "                     uniform=False,\n",
    "                     size_func=uniform_sizes, \n",
    "                     exp_prob=np.array([0]), \n",
    "                     exp_weight=np.array([1]),\n",
    "                     out_prob=np.array([0]),\n",
    "                     out_weight=np.array([1]),\n",
    "                     type_effect={1: -3},\n",
    "                     slope_var=0,\n",
    "                     type_slope=None,\n",
    "                     ):\n",
    "    \"\"\"\n",
    "    Build a set of cohort parameters based on either a uniform or varied \n",
    "    source population from supplid seeds\n",
    "    \"\"\"\n",
    "    if uniform:\n",
    "        print('uniform')\n",
    "        # If we're dealing with a unifrom source population, we'll draw one \n",
    "        # source population for all the trials \n",
    "        races = [choice(a=race_seeds, p=race_weights, size=1)[0]] * num_cohorts\n",
    "        ethnics = [choice(a=eth_seeds, p=eth_weights, size=1)[0]] * num_cohorts\n",
    "        sexes = [choice(a=sex_seeds, p=sex_weights, size=1)[0]] * num_cohorts\n",
    "        ages = [choice(a=mage_seeds, p=mage_weights, size=1)[0]] * num_cohorts\n",
    "        years = [build_years()] * num_cohorts\n",
    "    else:\n",
    "        print('vary')\n",
    "        # If we're not dealing with uniform source pooulations, we draw a \n",
    "        # unique set of source population seeds for each trial and then work\n",
    "        # from there.\n",
    "        races = list(choice(a=race_seeds, p=race_weights, size=num_cohorts))\n",
    "        ethnics = list(choice(a=eth_seeds, p=eth_weights, size=num_cohorts))\n",
    "        sexes = list(choice(a=sex_seeds, p=sex_weights, size=num_cohorts))\n",
    "        ages = list(choice(a=mage_seeds, p=mage_weights, size=num_cohorts))\n",
    "        years = [build_years() for i in range(num_cohorts)]\n",
    "\n",
    "    seed_var = zip(*(races, ethnics, sexes, ages, years))\n",
    "    \n",
    "    # Demographic Seeds\n",
    "    seeds = {\n",
    "        f'cohort_{i+1:02.0f}': (size, {'race': race,\n",
    "                                       'ethnicity': eth,\n",
    "                                       'sex':sex,\n",
    "                                       'm_age': age,\n",
    "                                       'year': partial(sim_uniform, **year)}\n",
    "                                )\n",
    "        for i, (size, (race, eth, sex, age, year)) \n",
    "        in enumerate(zip(*(size_func(num_cohorts), seed_var)))\n",
    "        }\n",
    "\n",
    "    # Sets up cohort types\n",
    "    cohort_type = {\n",
    "        f'cohort_{i+1:02.0f}': type_\n",
    "        for i, type_ in enumerate(choice(a=out_prob, p=out_weight, \n",
    "                                         size=num_cohorts))\n",
    "        }\n",
    "   \n",
    "    # Sets up exposure seeds, which we'll just we\n",
    "    exposure_type = {\n",
    "        f'cohort_{i+1:02.0f}': (type_ - 1) / 2\n",
    "        for i, type_ in enumerate(choice(a=exp_prob, p=exp_weight, \n",
    "                                         size=num_cohorts))\n",
    "        if (type_ > 0) & (cohort_type[f'cohort_{i+1:02.0f}'] == 0)\n",
    "        }\n",
    "    if len(exposure_type) == 0:\n",
    "        exposure_type = None\n",
    "    \n",
    "    sim_seeds = dict(cohort_seeds=seeds, \n",
    "                     exposure_cohort_mod=exposure_type,\n",
    "                     cohort_types=cohort_type,\n",
    "                     slope_var=slope_var,\n",
    "                     type_slope=type_slope,\n",
    "                     type_effect=type_effect,\n",
    "                     )\n",
    "    return sim_seeds"
   ]
  },
  {
   "cell_type": "markdown",
   "id": "85440e9c-9bf4-4f5f-96f1-82eeff2d5b32",
   "metadata": {},
   "source": [
    "## Simulation Scenarios"
   ]
  },
  {
   "cell_type": "markdown",
   "id": "2848a67c-d18a-4824-ba29-2c943d2f1050",
   "metadata": {},
   "source": [
    "I want to set up a series of minimum simulations that let me check the following\n",
    "\n",
    "| scenario | different source population | different cohort sizes | exposure selection | outcome selection |\n",
    "| --- | --- | --- | --- | --- | \n",
    "| 0 | no | no | no | no |\n",
    "| 1 | yes | no | no | no |\n",
    "| 2 | no | yes | no | no | \n",
    "| 4 | no | no | yes | no | \n",
    "| 8 | no | no | no | yes | \n",
    "| 16 | yes | yes | yes | yes |\n",
    "<!-- | **F** | same | same | no | no | yes | no | -->\n",
    "<!-- | **G** | same | same | no | no | no | yes | -->\n",
    "<!-- | **F** | vary | same | yes | no |\n",
    "| **G** | vary | same | no | yes | \n",
    "| **H** | vary | same | yes | yes |\n",
    "| **I** | vary | vary | no | no |\n",
    "| **J** | vary | vary | yes | no |\n",
    "| **K** | vary | vary | no | yes |\n",
    "| **L** | vary | vary | yes | yes | -->"
   ]
  },
  {
   "cell_type": "code",
   "execution_count": 25,
   "id": "3fd9a7d3-006a-4bb6-a2d7-f8cc4ebd800b",
   "metadata": {},
   "outputs": [],
   "source": [
    "scenarios_lo_var = [\n",
    "    [[0, 0, 0, 0], dict(uniform=True, size_func=uniform_sizes,)],\n",
    "    [[1, 0, 0, 0], dict(uniform=False, size_func=uniform_sizes,)],\n",
    "    [[0, 1, 0, 0], dict(uniform=True, size_func=vary_sizes,)],\n",
    "    [[0, 0, 1, 0], dict(uniform=True, size_func=uniform_sizes, exp_prob=exposure_prob, exp_weight=exposure_weight,)],\n",
    "    [[0, 0, 0, 1], dict(uniform=True, size_func=uniform_sizes, out_prob=out_types, out_weight=out_weights)],\n",
    "    [[1, 1, 1, 1], dict(uniform=False, size_func=vary_sizes, out_prob=out_types, \n",
    "                                      out_weight=out_weights, exp_prob=exposure_prob, exp_weight=exposure_weight)],\n",
    "]"
   ]
  },
  {
   "cell_type": "markdown",
   "id": "b53dcfad-2b01-42e1-9678-725f305d747c",
   "metadata": {},
   "source": [
    "# Example Simulation"
   ]
  },
  {
   "cell_type": "markdown",
   "id": "46c92730-d50c-4a11-82c8-827f979084ad",
   "metadata": {},
   "source": [
    "I'd like to do a quick check on my ability to accurately simulate data under each set of scenarios. I'll preset an example ICC value, and an example effect and then simulate and look at individual cohort models."
   ]
  },
  {
   "cell_type": "code",
   "execution_count": 26,
   "id": "82a1c57d-60f6-4649-b8c4-a40723ad15ab",
   "metadata": {},
   "outputs": [
    {
     "name": "stdout",
     "output_type": "stream",
     "text": [
      "The seed ICC value is 0.10\n",
      "The seed effect value is -0.5\n"
     ]
    }
   ],
   "source": [
    "example_icc = 0.1\n",
    "example_effect = -0.5\n",
    "\n",
    "print(f'The seed ICC value is {example_icc:1.2f}')\n",
    "print(f'The seed effect value is {example_effect:1.1f}')\n",
    "\n",
    "example_gvar =  seed_var[0.1]"
   ]
  },
  {
   "cell_type": "markdown",
   "id": "ff4fa321-cf63-47ef-93f8-0274142af6b8",
   "metadata": {},
   "source": [
    "### All Uniform"
   ]
  },
  {
   "cell_type": "markdown",
   "id": "93744e54-b570-439d-9500-ffcfe1784550",
   "metadata": {},
   "source": [
    "We'll start by doing an example simulation for the first scenario (scenario 0). We're looking for identical cohort sizes (250 samples by default) and a relatively similar distribution of the birth weight. The proportion of smokers should be around 10% (based on population variation and random selection). We expect the distribution of birth weights to be similar across all the cohorts both in terms of the shape of the distribution and the mean/median."
   ]
  },
  {
   "cell_type": "code",
   "execution_count": 32,
   "id": "b7e7d8d1-f3f2-4d5d-9c41-d7a42d6eac44",
   "metadata": {},
   "outputs": [],
   "source": [
    "scenario_bool, seed_kwargs = scenarios_lo_var[0]\n",
    "sim_seeds = build_sim_params(**seed_kwargs, num_cohorts=30)\n",
    "\n",
    "example_data00, sim_values00 = \\\n",
    "    bw_sim.simulate_cohort(**sim_seeds,\n",
    "                           betas=slopes,\n",
    "                           icc=seed_var[0.00],\n",
    "                           smoking_effect=-0.5,\n",
    "                           exposure_demo_mod=smoking_effect,\n",
    "                           )\n",
    "example_summary00 = exp_plots.tabulate_example_data(\n",
    "    example_data00, levels=['cohort_type', 'mean', 'param'])\n",
    "example_data00['x'] = example_data00['cohort'].replace(\n",
    "    example_summary00['x_pos'].astype(str)).astype(float)\n",
    "\n",
    "example_params00 = exp_plots.build_per_cohort_fit(example_data00)\n",
    "fit_res00 = exp_plots.build_filter_fits(example_data00, filters, models, tech_order)\n",
    "fit_res00 = exp_plots.tabulate_res(fit_res00, ['none'], tech_order, palette='Dark2')"
   ]
  },
  {
   "cell_type": "code",
   "execution_count": 34,
   "id": "233c424a-a968-4c6c-a216-6ec175e2feb2",
   "metadata": {},
   "outputs": [],
   "source": [
    "def _summarize_cat(data, cat_col, grouper='cohort', ref_='x'):\n",
    "    \"\"\"\n",
    "    Tabulates group size and proprotion for categorical data \n",
    "    \"\"\"\n",
    "    counts = data.groupby([cat_col, grouper])[ref_]\n",
    "    counts = counts.count().reset_index()\n",
    "    counts.rename(columns={ref_: 'counts', \n",
    "                           cat_col: 'groups',\n",
    "                           grouper: 'cohort'}, \n",
    "                  inplace=True)\n",
    "    group_counts = data[grouper].value_counts().astype(str).to_dict()\n",
    "    counts['group_size'] = counts['cohort'].replace(group_counts).astype(int)\n",
    "    counts['percent'] = counts['counts'] / counts['group_size']\n",
    "    counts['column'] = cat_col\n",
    "\n",
    "    counts = counts[['column', 'groups', 'cohort', \n",
    "                     'group_size', 'counts', 'percent']]\n",
    "\n",
    "    return counts"
   ]
  },
  {
   "cell_type": "code",
   "execution_count": 35,
   "id": "fe93335f-b9d8-44f1-a9a2-cc7794b50692",
   "metadata": {},
   "outputs": [],
   "source": [
    "colors = {i: mpc.to_hex(c) \n",
    "          for i, c in enumerate(sn.color_palette('Set2', n_colors=4))}"
   ]
  },
  {
   "cell_type": "code",
   "execution_count": 36,
   "id": "d93cdfa6-ed0b-4889-8d45-c14f83f5ad6c",
   "metadata": {},
   "outputs": [],
   "source": [
    "def _summarise_cat(ax, data, column, colors):\n",
    "    \"\"\"\n",
    "    Summarizes categorical data into a stacked barplot\n",
    "    \"\"\"\n",
    "    count_summary = _summarize_cat(data, column)\n",
    "    rel_summary = count_summary.pivot(index='cohort',\n",
    "                                      columns='groups', \n",
    "                                      values='percent').fillna(0)\n",
    "    rel_summary.sort_index(axis='columns', inplace=True)\n",
    "    left_ = rel_summary.cumsum(axis=1) - rel_summary\n",
    "    \n",
    "    y = example_data00.groupby('cohort')['x'].mean()[rel_summary.index]\n",
    "\n",
    "    for c, v in rel_summary.items():\n",
    "        ax.barh(y=y, left=left_[c], width=v, color=colors[c])"
   ]
  },
  {
   "cell_type": "code",
   "execution_count": 37,
   "id": "1f78956d-94db-4008-8ba0-fc6050fbdfc5",
   "metadata": {},
   "outputs": [],
   "source": [
    "palettes = {'race': {0: '#66c2a5', 1: '#fc8d62', 2: '#8da0cb', 3: '#e78ac3'},\n",
    "            'ethnicity': {0: '#9e9ac8', 1: '#54278f'},\n",
    "            'sex': {0: '#74c476', 1: '#006d2c'},\n",
    "            'smoking': {0: '#fcae91', 1: '#cb181d'},\n",
    "            }\n"
   ]
  },
  {
   "cell_type": "code",
   "execution_count": 38,
   "id": "4a26c0e7-1cdf-41f9-ab12-673ae6831fe1",
   "metadata": {},
   "outputs": [],
   "source": [
    "# def build_histogram(data, col, "
   ]
  },
  {
   "cell_type": "code",
   "execution_count": 39,
   "id": "29ca33b0-a46d-40d2-965f-28bbcfad0fc3",
   "metadata": {},
   "outputs": [],
   "source": [
    "counts0 = _summarize_cat(example_data00, 'year')\n",
    "counts1 = counts0.pivot(index='cohort', columns='groups', values='counts')\n",
    "counts1.fillna(0, inplace=True)\n",
    "counts1.sort_index(axis='columns', ascending=True, inplace=True)\n",
    "counts2 = counts1.div(counts1.max(axis=1), axis=0) * 0.8\n",
    "\n",
    "y = example_data00.groupby('cohort')['x'].mean()[counts2.index]"
   ]
  },
  {
   "cell_type": "code",
   "execution_count": 40,
   "id": "0bec3c62-f4d9-47b4-b6cb-13bc528b2787",
   "metadata": {},
   "outputs": [
    {
     "data": {
      "image/png": "[encoded data removed]",
      "text/plain": [
       "<Figure size 640x480 with 1 Axes>"
      ]
     },
     "execution_count": 40,
     "metadata": {},
     "output_type": "execute_result"
    }
   ],
   "source": [
    "fig = plt.figure()\n",
    "ax = fig.add_subplot(1,1,1)\n",
    "for coh, y_ in y.items():\n",
    "    ax.bar(x=counts2.columns.astype(int),\n",
    "           height=counts2.loc[coh],\n",
    "           bottom=y_ + 0.1,\n",
    "           width=1,\n",
    "           linewidth=0,\n",
    "           color='#525252',\n",
    "      )\n",
    "ax.set_xlim(0, 20)\n",
    "fig"
   ]
  },
  {
   "cell_type": "code",
   "execution_count": 41,
   "id": "074983fb-aacf-4af9-a703-0dc036dc980c",
   "metadata": {},
   "outputs": [],
   "source": [
    "def _summarise_histogram(ax, data, column, color='#525252', xlim=None):\n",
    "    \"\"\"\n",
    "    Plots a histogram of continous data\n",
    "    \"\"\"\n",
    "    # Counts the values in bins\n",
    "    counts0 = _summarize_cat(data, column)\n",
    "    counts1 = counts0.pivot(index='cohort', columns='groups', values='counts')\n",
    "    counts1.fillna(0, inplace=True)\n",
    "    counts1.sort_index(axis='columns', ascending=True, inplace=True)\n",
    "    counts2 = counts1.div(counts1.max(axis=1), axis=0) * 0.8\n",
    "    \n",
    "    y = data.groupby('cohort')['x'].mean()[counts2.index]\n",
    "\n",
    "    for coh, y_ in y.items():\n",
    "        ax.bar(x=counts2.columns.astype(int),\n",
    "               height=counts2.loc[coh],\n",
    "               bottom=y_ - 0.5 + 0.1,\n",
    "               width=1,\n",
    "               linewidth=0,\n",
    "               color=color,\n",
    "          )\n",
    "    if xlim is not None:\n",
    "        ax.set_xlim(*xlim)"
   ]
  },
  {
   "cell_type": "code",
   "execution_count": 42,
   "id": "f7e7bc37-4ce6-4bf3-90dc-2c11fab550e3",
   "metadata": {},
   "outputs": [],
   "source": [
    "data = example_data00.copy()\n",
    "column = 'y'"
   ]
  },
  {
   "cell_type": "code",
   "execution_count": 59,
   "id": "f7c1bbc7-fc74-4c74-b99d-1a795196c196",
   "metadata": {},
   "outputs": [],
   "source": [
    "def _fit_kde(x):\n",
    "    xmin = x.min()\n",
    "    xmax = x.max()\n",
    "    xpred = np.linspace(xmin, xmax, 100)\n",
    "    kernel = scipy.stats.gaussian_kde(x)\n",
    "    den_pred = kernel(xpred)\n",
    "    # den_pred2 = den_pred / den_pred.max()\n",
    "\n",
    "    return np.vstack([xpred, den_pred])\n",
    "\n",
    "def _summarize_kde(ax, data, column, color='#525252', xlim=None, linewidth=1, \n",
    "                   shade=True):\n",
    "    \"\"\"\n",
    "    Plots a kde plot of continous data\n",
    "    \"\"\"\n",
    "    trace_vals = data.groupby('cohort')[column].apply(_fit_kde).to_dict()\n",
    "    for cohort, y in data.groupby('cohort')['x'].mean().items():\n",
    "        [xx, yy] = trace_vals[cohort]\n",
    "        yy = yy / yy.max() * 0.75\n",
    "        y0 = xx * 0 + y - 0.5 + 0.125\n",
    "        if shade:\n",
    "            ax.fill_between(x=xx,  y1=y0, y2=yy + y0,\n",
    "                            alpha=0.5,\n",
    "                            edgecolor='None',\n",
    "                            facecolor=color)\n",
    "        ax.plot(xx, yy + y0, linewidth=linewidth, \n",
    "                color=color)               "
   ]
  },
  {
   "cell_type": "code",
   "execution_count": 75,
   "id": "1e8b0623-8521-480f-b9f9-ba183dfdd9bf",
   "metadata": {},
   "outputs": [],
   "source": [
    "def _summarize_cohort_size(ax, data, colors=None):\n",
    "    \"\"\"\n",
    "    Summarizes the size of the estimated cohort\n",
    "    \"\"\"\n",
    "    if colors is None:\n",
    "        colors = {1 - i: mpc.to_hex(c) \n",
    "                  for i, c in enumerate(sn.color_palette(n_colors=2))}\n",
    "    print(colors)\n",
    "    counts = data.groupby(['cohort', 'cohort_type'])['x'].describe()\n",
    "    ax.barh(y=counts['mean'], \n",
    "            width=counts['count'], \n",
    "            left=0,\n",
    "            height=0.8,\n",
    "            color=counts.index.to_frame()['cohort_type'].replace(colors)\n",
    "            )\n",
    "    "
   ]
  },
  {
   "cell_type": "code",
   "execution_count": 79,
   "id": "da85edeb-98b6-489b-bca6-651b1232c5fb",
   "metadata": {},
   "outputs": [
    {
     "name": "stdout",
     "output_type": "stream",
     "text": [
      "{1: '#1f77b4', 0: '#ff7f0e'}\n"
     ]
    }
   ],
   "source": [
    "fig, axes = plt.subplots(1, 8, sharey=True, dpi=150, constrained_layout=True)\n",
    "\n",
    "for col, ax in zip(*(['race', 'ethnicity', 'sex', 'smoking'], [axes[1], axes[2], axes[3], axes[6]])):\n",
    "    _summarise_cat(ax, example_data00, col, colors=palettes[col])\n",
    "    ax.set_xlim(0, 1)\n",
    "\n",
    "for col, ax, xlim in zip(*(['m_age', 'year'], [axes[4], axes[5]], [[17, 43], [0, 20]])):\n",
    "    _summarise_histogram(ax, example_data00, col, xlim=xlim)\n",
    "\n",
    "_summarize_kde(axes[-1], example_data00, 'y')\n",
    "_summarize_cohort_size(axes[0], example_data00)\n",
    "_ = axes[0].set_yticks(example_data00['x'])"
   ]
  },
  {
   "cell_type": "code",
   "execution_count": 77,
   "id": "d8164d76-0f82-4da5-9e13-fce5dc5e9e07",
   "metadata": {},
   "outputs": [
    {
     "data": {
      "text/plain": [
       "Index(['race', 'ethnicity', 'sex', 'm_age', 'year', 'cohort', 'cohort_type',\n",
       "       'smoking', 'y', 'spacer', 'x'],\n",
       "      dtype='object')"
      ]
     },
     "execution_count": 77,
     "metadata": {},
     "output_type": "execute_result"
    }
   ],
   "source": [
    "example_data00.columns"
   ]
  },
  {
   "cell_type": "code",
   "execution_count": 78,
   "id": "895ec202-6468-44f2-98fa-7af517127ad3",
   "metadata": {},
   "outputs": [],
   "source": [
    "cohort_type_palette = {\n",
    "    i: mpc.to_hex(c) for i, c in enumerate(sn.color_palette(n_colors=2)[::-1])\n",
    "}"
   ]
  },
  {
   "cell_type": "code",
   "execution_count": 71,
   "id": "11427851-59f2-4fbd-8d46-ecd2a8ddc788",
   "metadata": {},
   "outputs": [
    {
     "data": {
      "image/png": "[encoded data removed]",
      "text/plain": [
       "<Figure size 600x600 with 3 Axes>"
      ]
     },
     "execution_count": 71,
     "metadata": {},
     "output_type": "execute_result"
    }
   ],
   "source": [
    "left, right, main_lims, (lo_min, lo_max), (hi_min, hi_max) = \\\n",
    "    exp_plots.calculate_example_scale(example_params00, lim_scale=0.85)\n",
    "\n",
    "fig_00 = plt.figure(dpi=100, constrained_layout=0, \n",
    "                  figsize=(6, 6), facecolor='w')\n",
    "\n",
    "gs = fig_00.add_gridspec(4, 11)\n",
    "# axn = fig_.add_subplot(gs[:, 0], facecolor='None')\n",
    "ax01 = fig_00.add_subplot(gs[:, 3:7])\n",
    "ax00 = fig_00.add_subplot(gs[:, 1:3], sharey=ax01)\n",
    "ax02 = fig_00.add_subplot(gs[:, 7:], sharey=ax01)\n",
    "\n",
    "\n",
    "exp_plots.plot_weight_dist(ax1=ax01, \n",
    "                           example_data=example_data00, \n",
    "                           palette=cohort_type_palette,\n",
    "                           violin_kws={'width': 1.25},\n",
    "                           box_kws={'linewidth': 1, 'width':0.65})\n",
    "\n",
    "exp_plots.plot_perc(ax00, example_summary00)\n",
    "\n",
    "exp_plots.plot_bars(ax2=ax02, \n",
    "                    example_summary=example_summary00, \n",
    "                    lim_min=main_lims[0], \n",
    "                    lim_max=main_lims[1], \n",
    "                    left=left, \n",
    "                    right=right, \n",
    "                    effect=-0.5,  \n",
    "                    # markeredgewidth=1,\n",
    "                    # linewidth=1,\n",
    "                    # markersize=4,\n",
    "                    )\n",
    "\n",
    "_ = ax00.set_yticks(example_summary00['x_pos'])\n",
    "ax00.set_yticklabels([f'({x:>4.0f})' for x in example_summary00['count']])\n",
    "ax00.yaxis.set_tick_params(labelleft=True, labelsize=9)\n",
    "ax01.set_xlim(ax01.get_xlim()[0] - np.diff(ax01.get_xlim()) * 0.05,\n",
    "              ax01.get_xlim()[1] + np.diff(ax01.get_xlim()) * 0.05)\n",
    "                                           \n",
    "# ax00.set_xticks(np.linspace(0, 1, 3))\n",
    "ax01.xaxis.set_major_formatter(ticker.StrMethodFormatter('{x:1.1f}'))\n",
    "ax02.xaxis.set_major_formatter(ticker.StrMethodFormatter('{x:1.1f}'))\n",
    "\n",
    "ax00.set_ylabel('Cohort', size=12)\n",
    "ax01.yaxis.get_label().set_visible(False)\n",
    "_ = ax02.set_xlabel('$\\\\hat{{\\\\beta}}_{\\\\textsf{smoking}}$')\n",
    "fig_00"
   ]
  },
  {
   "cell_type": "markdown",
   "id": "f1a9c464-5041-4a9a-a2f3-50e7d6e97943",
   "metadata": {},
   "source": [
    "### Vary Population"
   ]
  },
  {
   "cell_type": "markdown",
   "id": "46978e70-89f9-4c42-a784-74a277265d10",
   "metadata": {},
   "source": [
    "Next, I want to look at what happens when we vary the population but keep the cohort sizes, exposure, and outcome characteristics the same."
   ]
  },
  {
   "cell_type": "code",
   "execution_count": 48,
   "id": "c3d0759a-e48e-48e0-92d6-04521dd42ae6",
   "metadata": {},
   "outputs": [
    {
     "name": "stdout",
     "output_type": "stream",
     "text": [
      "vary\n",
      "uniform sizes\n"
     ]
    }
   ],
   "source": [
    "scenario_bool, seed_kwargs = scenarios_lo_var[1]\n",
    "sim_seeds = build_sim_params(**seed_kwargs, num_cohorts=30)\n",
    "\n",
    "example_data01, sim_values01 = \\\n",
    "    bw_sim.simulate_cohort(**sim_seeds,\n",
    "                           betas=slopes,\n",
    "                           icc=seed_var[0.01],\n",
    "                           smoking_effect=-0.5,\n",
    "                           exposure_demo_mod=smoking_effect,\n",
    "                           )\n",
    "example_summary01 = exp_plots.tabulate_example_data(\n",
    "    example_data01, levels=['cohort_type', 'mean', 'param'])\n",
    "example_data01['x'] = \\\n",
    "    example_data01['cohort'].replace(example_summary01['x_pos'].astype(str)).astype(float)\n",
    "example_params01 = exp_plots.build_per_cohort_fit(example_data01)\n",
    "fit_res01 = exp_plots.built_filter_fits(example_data01, filters, models, tech_order)\n",
    "fit_res01 = exp_plots.tabulate_res(fit_res01, filter_order, tech_order, palette='Dark2')"
   ]
  },
  {
   "cell_type": "code",
   "execution_count": null,
   "id": "1e10801f-bbf9-48bb-a3cb-9f38ff2d885f",
   "metadata": {},
   "outputs": [],
   "source": []
  },
  {
   "cell_type": "code",
   "execution_count": 49,
   "id": "b3905c51-c6f4-4064-9043-1e04a10566f0",
   "metadata": {},
   "outputs": [
    {
     "data": {
      "image/png": "[encoded data removed]",
      "text/plain": [
       "<Figure size 600x600 with 3 Axes>"
      ]
     },
     "execution_count": 49,
     "metadata": {},
     "output_type": "execute_result"
    }
   ],
   "source": [
    "left, right, main_lims, (lo_min, lo_max), (hi_min, hi_max) = \\\n",
    "    exp_plots.calculate_example_scale(example_params01, lim_scale=0.85)\n",
    "\n",
    "fig_01 = plt.figure(dpi=100, constrained_layout=0, \n",
    "                  figsize=(6, 6), facecolor='None')\n",
    "\n",
    "gs = fig_01.add_gridspec(4, 11)\n",
    "# axn = fig_.add_subplot(gs[:, 0], facecolor='None')\n",
    "ax11 = fig_01.add_subplot(gs[:, 3:7])\n",
    "ax10 = fig_01.add_subplot(gs[:, 1:3], sharey=ax11)\n",
    "ax12 = fig_01.add_subplot(gs[:, 7:], sharey=ax11)\n",
    "\n",
    "exp_plots.plot_weight_dist(ax1=ax11, \n",
    "                           example_data=example_data01, \n",
    "                           palette=cohort_type_palette,\n",
    "                           violin_kws={'width': 1})\n",
    "\n",
    "exp_plots.plot_perc(ax10, example_summary01)\n",
    "\n",
    "exp_plots.plot_bars(ax2=ax12, \n",
    "                    example_summary=example_summary01, \n",
    "                    lim_min=main_lims[0], \n",
    "                    lim_max=main_lims[1], \n",
    "                    left=left, \n",
    "                    right=right, \n",
    "                    effect=-0.5,  \n",
    "                    # markeredgewidth=1,\n",
    "                    # linewidth=1,\n",
    "                    # markersize=4,\n",
    "                    )\n",
    "\n",
    "_ = ax10.set_yticks(example_summary01['x_pos'])\n",
    "ax10.set_yticklabels([f'({x:>4.0f})' for x in example_summary01['count']])\n",
    "ax10.yaxis.set_tick_params(labelleft=True, labelsize=9)\n",
    "ax10.set_xticks(np.linspace(0, 1, 3))\n",
    "ax11.xaxis.set_major_formatter(ticker.StrMethodFormatter('{x:1.1f}'))\n",
    "ax12.xaxis.set_major_formatter(ticker.StrMethodFormatter('{x:1.1f}'))\n",
    "ax11.set_xlim(ax11.get_xlim()[0] - np.diff(ax11.get_xlim()) * 0.05,\n",
    "              ax11.get_xlim()[1] + np.diff(ax11.get_xlim()) * 0.05)\n",
    "\n",
    "ax10.set_ylabel('Cohort', size=12)\n",
    "ax11.yaxis.get_label().set_visible(False)\n",
    "_ = ax12.set_xlabel('$\\\\hat{{\\\\beta}}_{\\\\textsf{smoking}}$')\n",
    "fig_01"
   ]
  },
  {
   "cell_type": "code",
   "execution_count": null,
   "id": "6e00db4d-c9b9-4a22-b45c-2ed4e146f96f",
   "metadata": {},
   "outputs": [],
   "source": []
  },
  {
   "cell_type": "markdown",
   "id": "7b1fea5e-bad1-40f3-99a8-7c8e99770317",
   "metadata": {},
   "source": [
    "For the example figure, each row is a cohort. The cohorts are labeled by the number of samples in the cohort. The first axis shows the percent of smokers in the cohort; the middle shows the distribution of birth weight z-scores within the cohort. The upper violin shows the overall distribution of data, the box shows the 25-75% interquartile region with median. The final panel shows the estimated effect of smoking by cohort with the 95% CI. The solid line indicates no effect; the thin dashed line is the seed effect. Filled cells indicate a statistically significant effect; non-filled cells indicate the effect estimate was not statistically significant."
   ]
  },
  {
   "cell_type": "markdown",
   "id": "8718f853-2fc6-476f-8f97-092576254c88",
   "metadata": {},
   "source": [
    "### Vary size"
   ]
  },
  {
   "cell_type": "markdown",
   "id": "9c10a82b-d3cf-45e7-8a1d-0190fa709c5e",
   "metadata": {},
   "source": [
    "We'll keep the source population, exposure, and outcome the same but vary the population size."
   ]
  },
  {
   "cell_type": "code",
   "execution_count": 50,
   "id": "fe8f23a9-7aa0-49bc-9117-2ed4a7814e6e",
   "metadata": {},
   "outputs": [
    {
     "ename": "ValueError",
     "evalue": "not enough values to unpack (expected 3, got 2)",
     "output_type": "error",
     "traceback": [
      "\u001b[0;31m---------------------------------------------------------------------------\u001b[0m",
      "\u001b[0;31mValueError\u001b[0m                                Traceback (most recent call last)",
      "Cell \u001b[0;32mIn[50], line 1\u001b[0m\n\u001b[0;32m----> 1\u001b[0m scenario_bool, seed_func, seedl_kwargs \u001b[38;5;241m=\u001b[39m scenarios_lo_var[\u001b[38;5;241m2\u001b[39m]\n\u001b[1;32m      2\u001b[0m sim_seeds \u001b[38;5;241m=\u001b[39m seed_func(\u001b[38;5;241m*\u001b[39m\u001b[38;5;241m*\u001b[39mseed_kwargs, num_cohorts\u001b[38;5;241m=\u001b[39m\u001b[38;5;241m30\u001b[39m)\n\u001b[1;32m      4\u001b[0m example_data02, sim_values02 \u001b[38;5;241m=\u001b[39m \\\n\u001b[1;32m      5\u001b[0m     bw_sim\u001b[38;5;241m.\u001b[39msimulate_cohort(\u001b[38;5;241m*\u001b[39m\u001b[38;5;241m*\u001b[39msim_seeds,\n\u001b[1;32m      6\u001b[0m                            betas\u001b[38;5;241m=\u001b[39mslopes,\n\u001b[0;32m   (...)\u001b[0m\n\u001b[1;32m      9\u001b[0m                            exposure_demo_mod\u001b[38;5;241m=\u001b[39msmoking_effect,\n\u001b[1;32m     10\u001b[0m                            )\n",
      "\u001b[0;31mValueError\u001b[0m: not enough values to unpack (expected 3, got 2)"
     ]
    }
   ],
   "source": [
    "scenario_bool, seed_func, seedl_kwargs = scenarios_lo_var[2]\n",
    "sim_seeds = seed_func(**seed_kwargs, num_cohorts=30)\n",
    "\n",
    "example_data02, sim_values02 = \\\n",
    "    bw_sim.simulate_cohort(**sim_seeds,\n",
    "                           betas=slopes,\n",
    "                           icc=seed_var[0.01],\n",
    "                           smoking_effect=-0.5,\n",
    "                           exposure_demo_mod=smoking_effect,\n",
    "                           )\n",
    "example_summary02 = exp_plots.tabulate_example_data(\n",
    "    example_data02, levels=['cohort_type', 'mean', 'param'])\n",
    "example_data02['x'] = \\\n",
    "    example_data02['cohort'].replace(example_summary02['x_pos'].astype(str)).astype(float)\n",
    "example_params02 = exp_plots.build_per_cohort_fit(example_data02)\n",
    "fit_res02 = exp_plots.built_filter_fits(example_data02, filters, models, tech_order)\n",
    "fit_res02 = exp_plots.tabulate_res(fit_res02, filter_order, tech_order, palette='Dark2')"
   ]
  },
  {
   "cell_type": "code",
   "execution_count": null,
   "id": "8115b87a-b691-4bbe-b3fc-69436853d20e",
   "metadata": {},
   "outputs": [],
   "source": [
    "example_summary02"
   ]
  },
  {
   "cell_type": "code",
   "execution_count": null,
   "id": "311819a8-4948-4bbd-baed-d38adc4cf2f6",
   "metadata": {},
   "outputs": [],
   "source": [
    "left, right, main_lims, (lo_min, lo_max), (hi_min, hi_max) = \\\n",
    "    exp_plots.calculate_example_scale(example_params02, lim_scale=0.85)\n",
    "\n",
    "fig_02 = plt.figure(dpi=100, constrained_layout=0, \n",
    "                  figsize=(6, 6), facecolor='None')\n",
    "\n",
    "gs = fig_02.add_gridspec(4, 11)\n",
    "# axn = fig_.add_subplot(gs[:, 0], facecolor='None')\n",
    "ax21 = fig_02.add_subplot(gs[:, 3:7])\n",
    "ax20 = fig_02.add_subplot(gs[:, 1:3], sharey=ax02)\n",
    "ax22 = fig_02.add_subplot(gs[:, 7:], sharey=ax02)\n",
    "\n",
    "exp_plots.plot_weight_dist(ax1=ax21, \n",
    "                           example_data=example_data02, \n",
    "                           palette=cohort_type_palette,\n",
    "                           violin_kws={'width': 1})\n",
    "\n",
    "exp_plots.plot_perc(ax20, example_summary02)\n",
    "\n",
    "exp_plots.plot_bars(ax2=ax22, \n",
    "                    example_summary=example_summary02, \n",
    "                    lim_min=main_lims[0], \n",
    "                    lim_max=main_lims[1], \n",
    "                    left=left, \n",
    "                    right=right, \n",
    "                    effect=-0.5,  \n",
    "                    # markeredgewidth=1,\n",
    "                    # linewidth=1,\n",
    "                    # markersize=4,\n",
    "                    )\n",
    "\n",
    "_ = ax20.set_yticks(example_summary02['x_pos'])\n",
    "ax20.set_yticklabels([f'({x:>4.0f})' for x in example_summary02['count']])\n",
    "ax20.yaxis.set_tick_params(labelleft=True, labelsize=9)\n",
    "ax20.set_xticks(np.linspace(0, 1, 3))\n",
    "ax21.xaxis.set_major_formatter(ticker.StrMethodFormatter('{x:1.1f}'))\n",
    "ax22.xaxis.set_major_formatter(ticker.StrMethodFormatter('{x:1.1f}'))\n",
    "\n",
    "ax20.set_ylabel('Cohort', size=12)\n",
    "ax21.yaxis.get_label().set_visible(False)\n",
    "_ = ax22.set_xlabel('$\\\\hat{{\\\\beta}}_{\\\\textsf{smoking}}$')\n",
    "fig_02"
   ]
  },
  {
   "cell_type": "markdown",
   "id": "5571fd2e-93a8-4816-b6c0-10fdba1254e1",
   "metadata": {},
   "source": [
    "### Vary Exposure"
   ]
  },
  {
   "cell_type": "markdown",
   "id": "f4d1588c-45a2-4942-bec6-a8f56227c309",
   "metadata": {},
   "source": [
    "And then we want to look at the "
   ]
  },
  {
   "cell_type": "code",
   "execution_count": null,
   "id": "cd1cf225-7649-412f-9f4e-2ecb0665fcfd",
   "metadata": {},
   "outputs": [],
   "source": [
    "scenario_bool, seed_func, seed_kwargs = scenarios_lo_var[3]\n",
    "sim_seeds = seed_func(**seed_kwargs, num_cohorts=30)\n",
    "\n",
    "example_data03, sim_values03 = \\\n",
    "    bw_sim.simulate_cohort(**sim_seeds,\n",
    "                           betas=slopes,\n",
    "                           icc=seed_var[0.01],\n",
    "                           smoking_effect=-0.5,\n",
    "                           exposure_demo_mod=smoking_effect,\n",
    "                           )\n",
    "example_summary03 = exp_plots.tabulate_example_data(\n",
    "    example_data03, levels=['cohort_type', 'mean', 'param'])\n",
    "example_data03['x'] = example_data03['cohort'].replace(example_summary03['x_pos'])\n",
    "example_params03 = exp_plots.build_per_cohort_fit(example_data03)\n",
    "fit_res03 = exp_plots.built_filter_fits(example_data03, filters, models, tech_order)\n",
    "fit_res03 = exp_plots.tabulate_res(fit_res03, filter_order, tech_order, palette='Dark2')"
   ]
  },
  {
   "cell_type": "code",
   "execution_count": null,
   "id": "4ea85694-a918-434d-8cc6-54f3ef655188",
   "metadata": {},
   "outputs": [],
   "source": [
    "left, right, main_lims, (lo_min, lo_max), (hi_min, hi_max) = \\\n",
    "    exp_plots.calculate_example_scale(example_params03, lim_scale=0.85)\n",
    "\n",
    "fig_03 = plt.figure(dpi=100, constrained_layout=0, \n",
    "                  figsize=(6, 6), facecolor='None')\n",
    "\n",
    "gs = fig_03.add_gridspec(4, 11)\n",
    "# axn = fig_.add_subplot(gs[:, 0], facecolor='None')\n",
    "ax31 = fig_03.add_subplot(gs[:, 3:7])\n",
    "ax30 = fig_03.add_subplot(gs[:, 1:3], sharey=ax31)\n",
    "ax32 = fig_03.add_subplot(gs[:, 7:], sharey=ax31)\n",
    "\n",
    "exp_plots.plot_weight_dist(ax1=ax31, \n",
    "                           example_data=example_data03, \n",
    "                           colors=example_summary03['color'], \n",
    "                           violin_kws={'width': 1})\n",
    "\n",
    "exp_plots.plot_perc(ax30, example_summary03)\n",
    "\n",
    "exp_plots.plot_bars(ax2=ax32, \n",
    "                    example_summary=example_summary03, \n",
    "                    lim_min=main_lims[0], \n",
    "                    lim_max=main_lims[1], \n",
    "                    left=left, \n",
    "                    right=right, \n",
    "                    effect=-0.5,  \n",
    "                    # markeredgewidth=1,\n",
    "                    # linewidth=1,\n",
    "                    # markersize=4,\n",
    "                    )\n",
    "\n",
    "_ = ax30.set_yticks(example_summary03['x_pos'])\n",
    "ax30.set_yticklabels([f'({x:>4.0f})' for x in example_summary03['count']])\n",
    "ax30.yaxis.set_tick_params(labelleft=True, labelsize=9)\n",
    "ax30.set_xticks(np.linspace(0, 1, 3))\n",
    "ax31.xaxis.set_major_formatter(ticker.StrMethodFormatter('{x:1.1f}'))\n",
    "ax32.xaxis.set_major_formatter(ticker.StrMethodFormatter('{x:1.1f}'))\n",
    "\n",
    "ax30.set_ylabel('Cohort', size=12)\n",
    "ax31.yaxis.get_label().set_visible(False)\n",
    "_ = ax32.set_xlabel('$\\\\hat{{\\\\beta}}_{\\\\textsf{smoking}}$')"
   ]
  },
  {
   "cell_type": "markdown",
   "id": "f4669eb2-3178-47ca-846e-f2994125f992",
   "metadata": {},
   "source": [
    "### Vary Outcome"
   ]
  },
  {
   "cell_type": "code",
   "execution_count": null,
   "id": "ad2eaa46-831c-4dad-a4d5-369255351e86",
   "metadata": {},
   "outputs": [],
   "source": [
    "scenario_bool, seed_func, seed_kwargs = scenarios_lo_var[4]\n",
    "sim_seeds = seed_func(**seed_kwargs, num_cohorts=30)\n",
    "\n",
    "example_data04, sim_values04 = \\\n",
    "    bw_sim.simulate_cohort(**sim_seeds,\n",
    "                           betas=slopes,\n",
    "                           icc=seed_var[0.01],\n",
    "                           smoking_effect=-0.5,\n",
    "                           exposure_demo_mod=smoking_effect,\n",
    "                           )\n",
    "example_summary04 = exp_plots.tabulate_example_data(\n",
    "    example_data04, levels=['cohort_type', 'mean', 'param'])\n",
    "example_data04['x'] = example_data04['cohort'].replace(example_summary04['x_pos'])\n",
    "example_params04 = exp_plots.build_per_cohort_fit(example_data04)\n",
    "fit_res04 = exp_plots.built_filter_fits(example_data04, filters, models, tech_order)\n",
    "fit_res04 = exp_plots.tabulate_res(fit_res04, filter_order, tech_order, palette='Dark2')"
   ]
  },
  {
   "cell_type": "code",
   "execution_count": null,
   "id": "3e61ba71-e466-4a1a-9ea1-e84dce457285",
   "metadata": {},
   "outputs": [],
   "source": [
    "left, right, main_lims, (lo_min, lo_max), (hi_min, hi_max) = \\\n",
    "    exp_plots.calculate_example_scale(example_params04, lim_scale=0.85)\n",
    "\n",
    "fig_04 = plt.figure(dpi=100, constrained_layout=0, \n",
    "                  figsize=(6, 6), facecolor='None')\n",
    "\n",
    "gs = fig_04.add_gridspec(4, 11)\n",
    "# axn = fig_.add_subplot(gs[:, 0], facecolor='None')\n",
    "ax41 = fig_04.add_subplot(gs[:, 3:7])\n",
    "ax40 = fig_04.add_subplot(gs[:, 1:3], sharey=ax41)\n",
    "ax42 = fig_04.add_subplot(gs[:, 7:], sharey=ax41)\n",
    "\n",
    "exp_plots.plot_weight_dist(ax1=ax41, \n",
    "                           example_data=example_data04, \n",
    "                           colors=example_summary04['color'], \n",
    "                           violin_kws={'width': 1.25})\n",
    "\n",
    "exp_plots.plot_perc(ax40, example_summary04)\n",
    "\n",
    "exp_plots.plot_bars(ax2=ax42, \n",
    "                    example_summary=example_summary04, \n",
    "                    lim_min=main_lims[0], \n",
    "                    lim_max=main_lims[1], \n",
    "                    left=left, \n",
    "                    right=right, \n",
    "                    effect=-0.5,  \n",
    "                    # markeredgewidth=1,\n",
    "                    # linewidth=1,\n",
    "                    # markersize=4,\n",
    "                    )\n",
    "\n",
    "_ = ax40.set_yticks(example_summary04['x_pos'])\n",
    "ax40.set_yticklabels([f'({x:>4.0f})' for x in example_summary04['count']])\n",
    "ax40.yaxis.set_tick_params(labelleft=True, labelsize=9)\n",
    "ax40.set_xticks(np.linspace(0, 1, 3))\n",
    "ax41.xaxis.set_major_formatter(ticker.StrMethodFormatter('{x:1.1f}'))\n",
    "ax42.xaxis.set_major_formatter(ticker.StrMethodFormatter('{x:1.1f}'))\n",
    "\n",
    "ax40.set_ylabel('Cohort', size=12)\n",
    "ax41.yaxis.get_label().set_visible(False)\n",
    "_ = ax42.set_xlabel('$\\\\hat{{\\\\beta}}_{\\\\textsf{smoking}}$')"
   ]
  },
  {
   "cell_type": "markdown",
   "id": "a4f5ab45-c272-45cd-a8f1-312f8d634183",
   "metadata": {},
   "source": [
    "### All Varied"
   ]
  },
  {
   "cell_type": "markdown",
   "id": "65f86646-7478-4910-858d-1c746422e19e",
   "metadata": {},
   "source": [
    "I want to try and build an example scenario so I just check what the data looks like. For this scenario, wer're going to look at varying the source population, varying the cohort size, varying the exposure selection and varying the outcome and we'll look at 40 cohorts."
   ]
  },
  {
   "cell_type": "code",
   "execution_count": null,
   "id": "93dc5e73-f45e-4e5f-b808-ce4bcc66deb8",
   "metadata": {},
   "outputs": [],
   "source": [
    "scenario_bool, seed_func, seed_kwargs = scenarios_vv[-1]\n",
    "sim_seeds = seed_func(**seed_kwargs, num_cohorts=30)\n",
    "\n",
    "example_data, sim_values = bw_sim.simulate_cohort(**sim_seeds,\n",
    "                                                  betas=slopes,\n",
    "                                                  icc=seed_var[0.1],\n",
    "                                                  smoking_effect=-0.5,\n",
    "                                                  exposure_demo_mod=smoking_effect,\n",
    "                                                  # type_effect={1: -3},\n",
    "                                                  # slope_var=0,\n",
    "                                                  )\n",
    "example_summary = exp_plots.tabulate_example_data(\n",
    "    example_data, levels=['cohort_type', 'mean', 'param'])\n",
    "example_data['x'] = example_data['cohort'].replace(example_summary['x_pos'])\n",
    "example_params = exp_plots.build_per_cohort_fit(example_data)\n",
    "fit_res = exp_plots.built_filter_fits(example_data, filters, models, tech_order)\n",
    "fit_res = exp_plots.tabulate_res(fit_res, filter_order, tech_order, palette='Dark2')"
   ]
  },
  {
   "cell_type": "markdown",
   "id": "23b2db1d-356f-45d0-8cfc-089f7a41e28a",
   "metadata": {},
   "source": [
    "### Simulation Schematic"
   ]
  },
  {
   "cell_type": "code",
   "execution_count": null,
   "id": "e72e9cb3-be3d-422d-ba04-efa884454445",
   "metadata": {},
   "outputs": [],
   "source": [
    "sub_data = sim_values.loc[example_data['cohort'] == 'cohort_11'].copy()\n",
    "sub_data.drop(columns=['cohort_slope'], inplace=True)\n",
    "cohort_data = example_data.loc[example_data['cohort'] == 'cohort_11']"
   ]
  },
  {
   "cell_type": "code",
   "execution_count": null,
   "id": "879bb1fa-4573-44d4-aeb5-4ff1d5985e70",
   "metadata": {},
   "outputs": [],
   "source": [
    "figa = plt.figure(dpi=300, constrained_layout=0, figsize=(6, 5.75), facecolor='w')\n",
    "fig_ind, fig_dep, fig_c = figa.subfigures(3, 1, height_ratios=[2.5, 2, 1.25])\n",
    "fig_dem, fig_exp1 = fig_ind.subfigures(1, 2, width_ratios=[3.5, 2.5])\n",
    "figdl, fig_dm = fig_dem.subfigures(2, 1, height_ratios=[1.5, 1])\n",
    "fig_exp, fig_rand = fig_exp1.subfigures(2, 1, height_ratios=[1.5, 1])\n",
    "# fig_exp, fig_ext = fig_exp1.subfigures(1, 2, width_ratios=[2, 0.5])\n",
    "fig_cl, fig_cr = fig_c.subfigures(1, 2, width_ratios=[4, 2])\n",
    "\n",
    "figw, figi = figa.subfigures(2, 1, height_ratios=[4.5, 1.25])\n",
    "\n",
    "exp_plots.build_sim_process_ref(figdl, cohort_data)\n",
    "ax_l = figdl.axes[0]\n",
    "figdl.axes[0].text(ax_l.get_xlim()[0],\n",
    "                   ax_l.get_ylim()[1] + np.diff(ax_l.get_ylim()) * 0.01,\n",
    "                   'A', \n",
    "                   size=12\n",
    "                  )\n",
    "exp_plots._build_table_plot(fig_dm, cohort_data, n_head=3)\n",
    "\n",
    "exp_plots._select_exposure(fig_exp, cohort_data, smoking_effect)\n",
    "ax_l = fig_exp.axes[2]\n",
    "ax_l.text(ax_l.get_xlim()[0], \n",
    "          ax_l.get_ylim()[1] - np.diff(ax_l.get_ylim()) * 0.05, \n",
    "          'B', size=12, va='top')\n",
    "exp_plots.illustrate_exposure_res(fig_rand, cohort_data)\n",
    "\n",
    "exp_plots.build_sim_sum_icons(fig_dep, sub_data)\n",
    "ax_l = fig_dep.axes[0]\n",
    "ax_l.text(ax_l.get_xlim()[0] - 0.16 * np.diff(ax_l.get_xlim()),\n",
    "          ax_l.get_ylim()[1],\n",
    "          'C', \n",
    "          size=12,\n",
    "          ha='left',\n",
    "          va='center'\n",
    "          )\n",
    "fig_cl.set_facecolor('None')\n",
    "exp_plots.build_split_figure(fig_cl, example_summary, example_data, example_params, \n",
    "                             clutch=cohort_data['x'].mean())\n",
    "ax_l = fig_cl.axes[1]\n",
    "ax_l.text(ax_l.get_xlim()[0] - np.diff(ax_l.get_xlim()) * 0.75, \n",
    "          ax_l.get_ylim()[1],\n",
    "          'D', size=12, ha='left', va='top')\n",
    "\n",
    "fig_cr.set_facecolor('None')\n",
    "exp_plots.pooled_res_plot(fig_cr, fit_res=fit_res, example_data=example_data)# )\n",
    "\n",
    "axw = figw.add_subplot(1,1,1, facecolor='None')\n",
    "axw.xaxis.set_tick_params(left=False, labelleft=False, \n",
    "                          right=False, labelright=False,\n",
    "                          length=0, labelsize=0)\n",
    "axw.yaxis.set_tick_params(left=False, labelleft=False, \n",
    "                          right=False, labelright=False,\n",
    "                          length=0, labelsize=0)\n",
    "axw.set_position((0, 0.025, 1, 0.975))\n",
    "axw.set_xlim(0, 1)\n",
    "axw.set_ylim(0, 1)\n",
    "axw.set_yticks([0, 0.9825])\n",
    "axw.set_xticks([0, 1])\n",
    "axw.text(0.03, 1, 'For the $i$th cohort:', size=12, va='top', ha='left')\n",
    "axw.plot([0, 0.02], [0.9825, 0.9825], 'k-', linewidth=1)\n",
    "axw.plot([1, 0.25], [0.9825, 0.9825], 'k-', linewidth=1)\n",
    "sn.despine(ax=axw, left=False, right=False, bottom=False, top=True, trim=True)\n",
    "\n",
    "axi = figi.add_subplot(1,1,1, facecolor='None')\n",
    "axi.set_position((0, 0, 1, 1))\n",
    "axi.set_xlim(0, 1)\n",
    "axi.set_ylim(0, 1)\n",
    "axi.xaxis.set_tick_params(bottom=False, labelbottom=False, top=False, labeltop=False, length=0, labelsize=0)\n",
    "axi.yaxis.set_tick_params(bottom=False, labelbottom=False, top=False, labeltop=False, length=0, labelsize=0)\n",
    "\n"
   ]
  },
  {
   "cell_type": "markdown",
   "id": "23b3731d-56d5-4ee6-ad14-cd36633f75f0",
   "metadata": {},
   "source": [
    "### Table 1"
   ]
  },
  {
   "cell_type": "code",
   "execution_count": null,
   "id": "e5fff430-4759-4755-bfbd-d28b0881dcb5",
   "metadata": {},
   "outputs": [],
   "source": [
    "exp_plots.built_table1(example_data)"
   ]
  },
  {
   "cell_type": "markdown",
   "id": "0ebd2e7c-50c4-416e-84fa-8fb4da978194",
   "metadata": {},
   "source": [
    "### Per Cohort Summary"
   ]
  },
  {
   "cell_type": "code",
   "execution_count": null,
   "id": "af1c3406-cb2b-462d-baa2-079d4c739b0f",
   "metadata": {},
   "outputs": [],
   "source": [
    "left, right, main_lims, (lo_min, lo_max), (hi_min, hi_max) = \\\n",
    "    exp_plots.calculate_example_scale(example_params, lim_scale=0.75)\n",
    "\n",
    "fig_ = plt.figure(dpi=300, constrained_layout=0, \n",
    "                  figsize=(6, 6), facecolor='None')\n",
    "\n",
    "gs = fig_.add_gridspec(1, 11)\n",
    "# axn = fig_.add_subplot(gs[:, 0], facecolor='None')\n",
    "ax1 = fig_.add_subplot(gs[:, 3:7])\n",
    "ax0 = fig_.add_subplot(gs[:, 1:3], sharey=ax1)\n",
    "ax2 = fig_.add_subplot(gs[:, 7:], sharey=ax1)\n",
    "\n",
    "exp_plots.plot_weight_dist(ax1=ax1, example_data=example_data, \n",
    "                           colors=example_summary['color'], violin_kws={'width': 2})\n",
    "exp_plots.plot_perc(ax0, example_summary)\n",
    "exp_plots.plot_bars(ax2=ax2, example_summary=example_summary, \n",
    "                    lim_min=main_lims[0], lim_max=main_lims[1], left=left, \n",
    "                    right=right, effect=-0.5,         \n",
    "                    )\n",
    "_ = ax0.set_yticks(example_summary['x_pos'])\n",
    "ax0.set_yticklabels([f'({x:>4.0f})' for x in example_summary['count']])\n",
    "ax0.yaxis.set_tick_params(labelleft=True, labelsize=9)\n",
    "ax0.set_xticks(np.linspace(0, 1, 3))\n",
    "ax1.xaxis.set_major_formatter(ticker.StrMethodFormatter('{x:1.1f}'))\n",
    "ax2.xaxis.set_major_formatter(ticker.StrMethodFormatter('{x:1.1f}'))\n",
    "\n",
    "ax0.set_ylabel('Cohort', size=12)\n",
    "_ = ax2.set_xlabel('$\\\\hat{{\\\\beta}}_{\\\\textsf{smoking}}$')"
   ]
  },
  {
   "cell_type": "markdown",
   "id": "7355dbcc-f8fa-4bfc-9dbd-421c220c6df9",
   "metadata": {},
   "source": [
    "### Example Fit"
   ]
  },
  {
   "cell_type": "markdown",
   "id": "c639908d-4929-4f9c-b16e-0cb823c43eb7",
   "metadata": {},
   "source": [
    "And then I want to try fitting the data and seeing how different models fit the data."
   ]
  },
  {
   "cell_type": "code",
   "execution_count": null,
   "id": "05d871de-c17a-4078-b3b3-c4f336a0e9c4",
   "metadata": {},
   "outputs": [],
   "source": [
    "fig = plt.figure(dpi=300, constrained_layout=True, facecolor='None')\n",
    "figr, figl = fig.subfigures(1, 2,)\n",
    "figr0, figr1 = figr.subfigures(2, 1)\n",
    "\n",
    "# Forest plot\n",
    "ax = figl.add_subplot(1,1,1)\n",
    "exp_plots.plot_filtered_fits(fit_res, ax, -0.5, tidy_short=tidy_short, \n",
    "                             filter_order=filter_order, filter_tidy=filter_tidy)\n",
    "\n",
    "\n",
    "# Table 1\n",
    "axr0 = figr0.add_subplot(1,1,1, facecolor='None',)\n",
    "exp_plots._plot_table_1(axr0, exp_plots.built_table1(example_data), )\n",
    "\n",
    "gsr1 = figr1.add_gridspec(1, 3)\n",
    "violin_axes = [figr1.add_subplot(gsr1[0])]\n",
    "violin_axes.append(figr1.add_subplot(gsr1[1], sharey=violin_axes[0]))\n",
    "violin_axes.append(figr1.add_subplot(gsr1[2], sharey=violin_axes[0]))\n",
    "exp_plots.plot_pooled_violin(violin_axes, example_data)\n",
    "    \n",
    "    \n",
    "    \n",
    "axr0.text(axr0.get_xlim()[0] - np.diff(axr0.get_xlim()) * 0.1,\n",
    "          axr0.get_ylim()[1] - np.diff(axr0.get_ylim()) * 0.1, \n",
    "         'A', size=12)\n",
    "figr1.axes[0].text(figr1.axes[0].get_xlim()[0] - np.diff(figr1.axes[0].get_xlim()) * 0.70,\n",
    "               figr1.axes[0].get_ylim()[1] + np.diff(figr1.axes[0].get_ylim()) * 0.05,\n",
    "              'B', size=12\n",
    "              )\n",
    "_ = ax.text(ax.get_xlim()[0] - np.diff(ax.get_xlim()) * 0.25,\n",
    "        ax.get_ylim()[1] - np.diff(ax.get_ylim()) * 0.075, \n",
    "        'C', size=12)"
   ]
  },
  {
   "cell_type": "markdown",
   "id": "9896a492-5a52-405e-9924-ec3d2d80703b",
   "metadata": {},
   "source": [
    "And then I want a figure showing how the data is simulated. "
   ]
  },
  {
   "cell_type": "markdown",
   "id": "2e57433d-4d9d-4a2c-8775-dd3e8c3f37a9",
   "metadata": {},
   "source": [
    "# Simulation Trials: Single Variations"
   ]
  },
  {
   "cell_type": "markdown",
   "id": "50816eb2-0b36-4aa0-976b-d20d4c19f52e",
   "metadata": {},
   "source": [
    "Then, we can undertake a series of simulation trials, varying  a single parameter. We'll start by selecting a number of simulation trails to run for each ICC, effect size, and scenario."
   ]
  },
  {
   "cell_type": "code",
   "execution_count": null,
   "id": "fe289052-9eb0-4e66-8e87-5083a6d6d702",
   "metadata": {},
   "outputs": [],
   "source": [
    "num_sim = 15\n",
    "print(f'We will perform {num_sim} trials per scenario, ICC, and effect size strata')"
   ]
  },
  {
   "cell_type": "code",
   "execution_count": null,
   "id": "0c4aac06-4391-499d-a766-f8d56780c301",
   "metadata": {},
   "outputs": [],
   "source": [
    "%%capture\n",
    "# We use capture to hide the output text and the warnings... becuse I can't deal.\n",
    "uniform_data = dict()\n",
    "\n",
    "for a, (scenario_bool, seed_func, seed_kwargs) in enumerate(scenarios_lo_var):\n",
    "    print(f'Start {a}')\n",
    "    fit_iccs = dict()\n",
    "    for effect, (icc, var) in it.product(effects, seed_var.items()):\n",
    "        fit_iccs[(effect, icc)] = []\n",
    "        for i in range(num_sim):\n",
    "            # Simulates the data \n",
    "            sim_seeds = seed_func(**seed_kwargs, num_cohorts=20)\n",
    "            # try:\n",
    "            data, _ = bw_sim.simulate_cohort(**sim_seeds,\n",
    "                                              betas=slopes,\n",
    "                                              icc=var,\n",
    "                                              smoking_effect=effect,\n",
    "                                              exposure_demo_mod=smoking_effect,\n",
    "                                              )\n",
    "            # except:\n",
    "                # continue\n",
    "\n",
    "            # Caclulates the ICC and the general cohort ICC\n",
    "            fit = smf.mixedlm('y ~ 1', data=data, groups=data['cohort']).fit()\n",
    "            fit_icc = bw_ana.icc_from_lme(fit)\n",
    "            if (icc >= 1) | (icc < 0) | np.any(np.trace(fit.cov_params()) < 0):\n",
    "                fit_icc = 0\n",
    "            if len(data['cohort_type'].unique()) > 1:\n",
    "                data2 = data.loc[data['cohort_type'].isin(['0', 0])].copy()\n",
    "                fit2 = smf.mixedlm('y ~ 1', \n",
    "                                   data=data2, \n",
    "                                   groups=data2['cohort']).fit()\n",
    "                fit_icc2 = bw_ana.icc_from_lme(fit2)\n",
    "                if (fit_icc2 >= 1) | (fit_icc2 < 0) | np.any(np.trace(fit2.cov_params()) < 0):\n",
    "                    fit_icc2 = 0\n",
    "            else:\n",
    "                fit_icc2 = fit_icc\n",
    "                \n",
    "            # Filts the data and model\n",
    "            model_adj = {\n",
    "                (name, fname): model(fit_icc2, f_(data), 'm_age + year + C(race) + C(sex) + C(ethnicity)') \n",
    "                for (name, model) in zip(*(tech_order, models))\n",
    "                for (fname, f_) in filters.items()\n",
    "                if fname in {'none'}\n",
    "                }\n",
    "            summary = {'data': data, \n",
    "                       'fit_icc': fit_icc2,\n",
    "                       'adj': model_adj,\n",
    "                       }\n",
    "            if fit.converged:\n",
    "                fit_iccs[(effect, icc)].append(summary)\n",
    "    code = np.power(2, scenario_bool * np.arange(len(scenario_bool))) * \\\n",
    "        scenario_bool\n",
    "    code = int(code.sum())\n",
    "    uniform_data[code] = fit_iccs\n",
    "    print(f'Finish {a}')"
   ]
  },
  {
   "cell_type": "code",
   "execution_count": null,
   "id": "e55b7fd7-a8d0-4a5e-ae69-be41e97eb204",
   "metadata": {},
   "outputs": [],
   "source": [
    "# And then once the data gets simulated, we compile the models intoa  longform \n",
    "# simulated result\n",
    "extracted_params = pd.DataFrame.from_dict(\n",
    "    data={(scenario, eff, seed_icc, i, name, filt_, adj, icc, conv * 1): params\n",
    "          for scenario, scenario_res in uniform_data.items()\n",
    "          for (seed_icc, eff), eff_combo in scenario_res.items()\n",
    "          for i, ds in enumerate(eff_combo)\n",
    "          for adj in ['adj']\n",
    "          for (model, filt_), (icc, fit_, params, conv, name) in ds[adj].items()\n",
    "          },\n",
    "    orient='index',\n",
    ")\n",
    "extracted_params.index.set_names(['scenario', 'seed_icc', 'seed_effect', 'iter', \n",
    "                                  'model', 'filter', 'adjustment', 'icc', \n",
    "                                  'converged'],\n",
    "                                 inplace=True)\n",
    "extracted_params.reset_index(level=['icc', 'converged'], inplace=True)\n",
    "\n",
    "# We work with the threshholded values for ICC value strata and then we add it\n",
    "# to the index\n",
    "thresh = pd.concat(\n",
    "    axis=0, \n",
    "    objs=[extracted_params['icc'] > thresh \n",
    "          for thresh in [0.01, 0.05, 0.1, 0.4, 0.7]]\n",
    ") * 1\n",
    "extracted_params['icc_group'] = thresh.groupby(list(thresh.index.names)).sum()\n",
    "extracted_params.set_index('icc_group', append=True, inplace=True)\n",
    "\n",
    "# And then we'll drop the filter and adjustment index levels since they're \n",
    "# consistent for this fit. \n",
    "extracted_params.reset_index(level=['filter', 'adjustment'], \n",
    "                             inplace=True, \n",
    "                             drop=True)"
   ]
  },
  {
   "cell_type": "code",
   "execution_count": null,
   "id": "a57dbbe7-422f-4a13-b0eb-cec791d95094",
   "metadata": {},
   "outputs": [],
   "source": []
  },
  {
   "cell_type": "markdown",
   "id": "c5f38782-3917-474e-afdd-fbd0ca5dc045",
   "metadata": {},
   "source": [
    "Having run several models, I want to check the converged data, with the caveat that in \"meta\" analysis, the converged argument is calculated as whether all the cohorts are included."
   ]
  },
  {
   "cell_type": "code",
   "execution_count": null,
   "id": "9e2d5901-8e1d-41f8-9b54-567facef59ad",
   "metadata": {},
   "outputs": [],
   "source": [
    "extracted_params.groupby(['scenario', 'model'])['converged'].mean().unstack()"
   ]
  },
  {
   "cell_type": "markdown",
   "id": "50d5fb4a-118e-477f-b529-c71e5fb6edf0",
   "metadata": {},
   "source": [
    "Finally, we'll pull out only the converged data to work with."
   ]
  },
  {
   "cell_type": "code",
   "execution_count": null,
   "id": "2faf241b-a4a3-4aae-a970-b021faec31f4",
   "metadata": {},
   "outputs": [],
   "source": [
    "uniform_keep = (extracted_params['converged'] | \\\n",
    "    extracted_params.index.to_frame()['model'].isin(['meta'])) & \\\n",
    "    (extracted_params['icc'] >= 0) & (extracted_params['icc'] <= 1)\n",
    "uniform_params = extracted_params.loc[uniform_keep].copy()\n",
    "uniform_params.reset_index(level='seed_effect', inplace=True)\n",
    "uniform_params['from_ref'] = uniform_params['param'] - uniform_params['seed_effect']\n",
    "uniform_params['abs_diff'] = np.absolute(uniform_params['from_ref'])\n",
    "uniform_params['sign_diff'] = np.sign(uniform_params['from_ref'])\n",
    "uniform_params['icc2'] = uniform_params['icc'] / 0.05"
   ]
  },
  {
   "cell_type": "code",
   "execution_count": null,
   "id": "4c5a7929-b86a-4a6d-a2f5-5e7d4ef9e920",
   "metadata": {},
   "outputs": [],
   "source": [
    "trial_count = uniform_params.set_index('seed_effect', append=True).index.to_frame().copy()\n",
    "trial_count = trial_count.duplicated(['scenario', 'seed_icc', 'seed_effect', 'iter'], keep='first')\n",
    "trial_count = trial_count == False\n",
    "trial_count = trial_count.cumsum()\n",
    "trial_count.reset_index('seed_effect', inplace=True,  drop=True)\n",
    "uniform_params['unique_trial'] = trial_count"
   ]
  },
  {
   "cell_type": "code",
   "execution_count": null,
   "id": "c381b490-12fb-450e-a88b-94b91aa984f7",
   "metadata": {},
   "outputs": [],
   "source": [
    "uniform_params.index.to_frame()['scenario'].unique()"
   ]
  },
  {
   "cell_type": "code",
   "execution_count": null,
   "id": "90f2f8ed-375f-41a2-9a41-43b3303996c3",
   "metadata": {},
   "outputs": [],
   "source": [
    "scenario_codes = [0, 1, 2, 4, 8, 15]"
   ]
  },
  {
   "cell_type": "markdown",
   "id": "d7ff1c1a-b552-48af-9e5e-305075ca00f8",
   "metadata": {},
   "source": [
    "## Evil trees"
   ]
  },
  {
   "cell_type": "markdown",
   "id": "32537081-e197-4c2a-b17f-c2a30b2b1479",
   "metadata": {},
   "source": [
    "In an earlier iteration, I also had a figure I described as the \"evil tree\" figure, which was the 95% confidence interval for different estimates and whether they were significant vs the ICC"
   ]
  },
  {
   "cell_type": "code",
   "execution_count": null,
   "id": "aa691bfb-680a-43d2-a8eb-709aa121a00f",
   "metadata": {},
   "outputs": [],
   "source": [
    "def _scary_tree(fig, gs, ax_ref, i, j, scenario, model, x='icc', \n",
    "                uniform_params=uniform_params, **error_kwargs):\n",
    "    \"\"\"\n",
    "    Makes an evil forest plot, highlighting values that don't contain the \n",
    "    seed value\n",
    "    \"\"\"\n",
    "    # Pulls out the necessary data\n",
    "    df_ = uniform_params.xs(scenario, level='scenario')\n",
    "    df_ = df_.xs(model, level='model').copy()\n",
    "    # Calculates the width and determines if they include the seed vlaue\n",
    "    df_['width'] = df_['ci_hi'] - df_['param']\n",
    "    df_['include'] = \\\n",
    "        (df_['ci_lo'] < df_['seed_effect']) & (df_['ci_hi'] > df_['seed_effect'])\n",
    "    df_['param2'] = df_['seed_effect'] - df_['param']\n",
    "    \n",
    "    # Sets up the axis\n",
    "    if ax_ref is None:\n",
    "        ax_ = fig.add_subplot(gs[i, j + 1])\n",
    "    else:\n",
    "        ax_ = fig.add_subplot(gs[i, j + 1], sharex=ax_ref, sharey=ax_ref)\n",
    "    \n",
    "    # Plots the results\n",
    "    ax_.errorbar(x=x, y='param2',  yerr='width', \n",
    "                data=df_.loc[df_['include']],\n",
    "                color='#919191',\n",
    "                **error_kwargs)\n",
    "    ax_.errorbar(x=x, y='param2',  yerr='width', \n",
    "                data=df_.loc[~df_['include']],\n",
    "                color='red',\n",
    "                **error_kwargs)\n",
    "\n",
    "    ax_.xaxis.set_tick_params(bottom=True, labeltop=False, \n",
    "                              top=True, labelbottom=False, \n",
    "                              tickdir='in', \n",
    "                              labelsize=8)\n",
    "    ax_.yaxis.set_tick_params(left=True, labelleft=False, \n",
    "                              right=True, labelright=(j == 5), \n",
    "                              tickdir='in', \n",
    "                              labelsize=8)\n",
    "    ax_.yaxis.set_major_formatter(ticker.StrMethodFormatter('{x:>5.1f}'))\n",
    "    ax_.xaxis.get_label().set_visible(False)\n",
    "    ax_.yaxis.get_label().set_visible(False)\n",
    "    \n",
    "    if i == 0:\n",
    "        ax_.set_title(tidy_short.get(model, model.title()), size=10)\n",
    "    \n",
    "    return ax_\n",
    "\n"
   ]
  },
  {
   "cell_type": "code",
   "execution_count": null,
   "id": "f0930956-2f84-4bad-ac3f-8c5f45d00d4b",
   "metadata": {},
   "outputs": [],
   "source": [
    "def plot_ref_scatter(fig, gs, scenarios, check_mark='x', box_size=None, \n",
    "                     boxlinewidth=1,  ax_labels=None, check_color='k'):\n",
    "    \"\"\"\n",
    "    \n",
    "    \"\"\"\n",
    "    for i, (bool_, _, _) in enumerate(scenarios):\n",
    "        # Axis\n",
    "        ax = fig.add_subplot(gs[i, 0], facecolor='None',)\n",
    "    \n",
    "        num_factors = len(bool_)\n",
    "        x_ref = np.linspace(0, 1, num_factors)\n",
    "        # Generates empty check boxes in each position\n",
    "        ax.scatter(x=x_ref,\n",
    "                   y=x_ref * 0,\n",
    "                   marker='s', \n",
    "                   s=box_size, \n",
    "                   facecolor='None', \n",
    "                   linewidth=boxlinewidth, \n",
    "                   edgecolor='k')\n",
    "\n",
    "        # Figures out the boxes to check and checks them\n",
    "        x = np.array(bool_) * (x_ref + 1)\n",
    "        x = x[x > 0] - 1\n",
    "        ax.scatter(x=x,\n",
    "                   y=x * 0,\n",
    "                   s=box_size,\n",
    "                   marker=check_mark, \n",
    "                   color=check_color,\n",
    "                   )\n",
    "    \n",
    "        # Tidies the axis\n",
    "        ax.set_xlim(-0.15, 1.15)\n",
    "        ax.set_xticks(np.linspace(0, 1, num_factors))\n",
    "        ax.set_xticklabels(['Vary population', 'Varying size', \n",
    "                            'Exposure selection', 'Outcome selection'], \n",
    "                           rotation=90, size=9)\n",
    "        ax.xaxis.set_tick_params(bottom=False, labeltop=(i == 0), labelbottom=False)\n",
    "        ax.yaxis.set_tick_params(left=False, labelleft=False)\n",
    "        sn.despine(ax=ax, left=True, right=True, top=True, bottom=True)"
   ]
  },
  {
   "cell_type": "code",
   "execution_count": null,
   "id": "9cfcda6f-b73b-4aad-9c0e-5c1dc41ea116",
   "metadata": {},
   "outputs": [],
   "source": [
    "fig = plt.figure(dpi=150, constrained_layout=0, figsize=(6, 4.5))\n",
    "gs = fig.add_gridspec(6, 7, wspace=0.01, hspace=0.01)\n",
    "\n",
    "ax_ = None\n",
    "for i, scenario in enumerate(scenario_codes):\n",
    "    print(scenario)\n",
    "    ax_r = []\n",
    "    for j, model in enumerate(tech_order):\n",
    "        ax_ = _scary_tree(fig, gs, ax_, i, j, scenario, model, \n",
    "                          linestyle='', alpha=0.75, linewidth=0.5)\n",
    "        ax_.xaxis.set_tick_params(labelbottom=(scenario==15))\n",
    "plot_ref_scatter(fig=fig, gs=gs, scenarios=scenarios_lo_var, check_mark='s')\n",
    "        \n",
    "ax_l = fig.add_subplot(gs[:, 1:], facecolor='None')\n",
    "ax_l.set_ylabel('$\\\\beta - \\\\hat{b}$', size=12, rotation=-90, va='bottom', labelpad=42)\n",
    "ax_l.yaxis.set_label_position('right')\n",
    "ax_l.set_xlabel('ICC', size=12, labelpad=18)\n",
    "ax_l.xaxis.set_tick_params(bottom=False, labelbottom=False, top=False, \n",
    "                           labeltop=False, length=0, labelsize=0)\n",
    "ax_l.yaxis.set_tick_params(bottom=False, labelbottom=False, top=False, \n",
    "                           labeltop=False, length=0, labelsize=0)\n",
    "sn.despine(ax=ax_l, left=True, right=True, top=True, bottom=True)"
   ]
  },
  {
   "cell_type": "markdown",
   "id": "7611392e-8e3f-47d1-83b5-0bb215cefeec",
   "metadata": {},
   "source": [
    "## Precision"
   ]
  },
  {
   "cell_type": "markdown",
   "id": "f0f14a00-bead-4372-bf6a-b668e7c63181",
   "metadata": {},
   "source": [
    "We'll start by looking at the precision of our estimates as a function of the simulation conditions and simulation parameters. To do this, we extract the ICC value for the general cohorts and the bse for each fit that converged, and then regress the values for any ICC > 0.05."
   ]
  },
  {
   "cell_type": "code",
   "execution_count": null,
   "id": "6c30e956-c634-4a7c-88b6-82c490c9eabd",
   "metadata": {},
   "outputs": [],
   "source": [
    "def _plot_corr_scatter(fig, gs, i, j, data, scenario, model, y, x='icc', \n",
    "                       ax_ref=None, **kwargs):\n",
    "    \"\"\"\n",
    "    Plots the correlation plot for the data\n",
    "    \"\"\"\n",
    "    # Sets up the ddefault plotting parameters\n",
    "    scatter_kwargs = dict(alpha=0.75, \n",
    "                       legend=False,\n",
    "                       edgecolor='None',\n",
    "                       marker='.',\n",
    "                       s=5,\n",
    "                       color='#525252',\n",
    "                       )\n",
    "    scatter_kwargs.update(kwargs)\n",
    "\n",
    "    # Sets up the axis\n",
    "    if ax_ref is None:\n",
    "        ax_ = fig.add_subplot(gs[i, j + 1])\n",
    "    else:\n",
    "        ax_ = fig.add_subplot(gs[i, j + 1], sharex=ax_ref, sharey=ax_ref)\n",
    "    \n",
    "    # Pulls out the data\n",
    "    sub_data = data.xs(scenario, level='scenario').copy()\n",
    "    sub_data = sub_data.xs(model, level='model').reset_index()\n",
    "    \n",
    "    # Plots the data\n",
    "    sn.scatterplot(x=x, y=y, ax=ax_, \n",
    "                   data=sub_data,\n",
    "                   **scatter_kwargs)\n",
    "    \n",
    "    ax_.xaxis.set_tick_params(bottom=True, labeltop=False, \n",
    "                              top=True, labelbottom=False, \n",
    "                              tickdir='in', \n",
    "                              labelsize=10)\n",
    "    ax_.yaxis.set_tick_params(left=True, labelleft=False, \n",
    "                              right=True, labelright=(j == 5), \n",
    "                              tickdir='in', \n",
    "                              labelsize=10)\n",
    "    ax_.xaxis.get_label().set_visible(False)\n",
    "    ax_.yaxis.get_label().set_visible(False)\n",
    "    \n",
    "    if i == 0:\n",
    "        ax_.set_title(tidy_short.get(model, model.title()), size=10)\n",
    "    \n",
    "    return ax_"
   ]
  },
  {
   "cell_type": "code",
   "execution_count": null,
   "id": "7793f253-9b3f-4202-a680-8d4a997bb512",
   "metadata": {},
   "outputs": [],
   "source": [
    "def _plot_regression_one_level(ax_, data, scenario, model, formula, \n",
    "                               predict_df=None, text_kws=None, line_kws=None, \n",
    "                               thresh=0.05, ref_='icc2', sig_alpha=0.05,\n",
    "                               yscale=0.95, xscale=0.05, ref_scale=0.1,\n",
    "                               ):\n",
    "    \"\"\"\n",
    "    Adds a one line equation\n",
    "    \"\"\"\n",
    "    # Sets up the text and plot kwargs\n",
    "    text_kwargs = dict(ha='left', \n",
    "                       va={'meta': 'bottom'}.get(model, 'top'), \n",
    "                       size=9, \n",
    "                       color='k',)\n",
    "    if text_kws is not None:\n",
    "        text_kwargs.update(text_kws)\n",
    "    plot_kwargs = dict(color='r', linewidth=0.75, linestyle='-')\n",
    "    if line_kws is not None:\n",
    "        plot_kwargs.update(line_kws)\n",
    "    \n",
    "    xlim = ax.get_xlim()\n",
    "    ylim = ax.get_ylim()\n",
    "    \n",
    "    # Pulls the data and fits the model\n",
    "    sub_data = data.xs(scenario, level='scenario').copy()\n",
    "    sub_data = sub_data.xs(model, level='model').reset_index()\n",
    "    sub_data = sub_data.loc[sub_data['icc'] > thresh].copy()\n",
    "    m1 = smf.ols(formula, data=sub_data).fit()\n",
    "    \n",
    "    # Gets the prediction array\n",
    "    if predict_df is None:\n",
    "        predict_df = pd.DataFrame.from_dict(\n",
    "            data={ref_: np.linspace(*xlim, 25) / ref_scale,\n",
    "                  'seed_effect': np.ones(25,) * -0.1,\n",
    "                 },\n",
    "            orient='columns',\n",
    "        )\n",
    "    \n",
    "    # Generates a pretty data string!\n",
    "    str_ = 'm={0:1.3f}{1}'.format(\n",
    "        m1.params[ref_], \n",
    "        {False: ' ', True: '*'}[m1.pvalues[ref_] < sig_alpha]\n",
    "        )\n",
    "    ax_.text(x=xlim[0] + xscale * np.diff(xlim),\n",
    "            y=ylim[0] + yscale * np.diff(ylim),\n",
    "            s=str_,\n",
    "            **text_kwargs)\n",
    "    # Plost the trend line\n",
    "    ax_.plot(predict_df[ref_] * ref_scale, m1.predict(predict_df), \n",
    "              **plot_kwargs)\n",
    "    ax_.set_xlim(xlim)\n",
    "    \n",
    "    return m1"
   ]
  },
  {
   "cell_type": "markdown",
   "id": "1c31e00f-2837-4341-8517-6994292beece",
   "metadata": {},
   "source": [
    "#### Percision square plot"
   ]
  },
  {
   "cell_type": "markdown",
   "id": "5173da69-a95e-4afe-b463-4fd4fd1a1a57",
   "metadata": {},
   "source": [
    "For accuracy, we'll start with the absolute difference between the value and the estimate as a function of the cohort clustering. We'll color the points by the sign, just to get a sense of the "
   ]
  },
  {
   "cell_type": "code",
   "execution_count": null,
   "id": "f82d759e-ae7d-4e6d-93ba-261a743423d8",
   "metadata": {},
   "outputs": [],
   "source": [
    "fig = plt.figure(dpi=150, constrained_layout=0, figsize=(6, 4.5))\n",
    "gs = fig.add_gridspec(6, 7, wspace=0.01, hspace=0.01)\n",
    "\n",
    "ax_ = None\n",
    "axes = []\n",
    "for i, scenario in enumerate(scenario_codes):\n",
    "    ax_r = []\n",
    "    for j, model in enumerate(tech_order):\n",
    "        ax_ = _plot_corr_scatter(fig=fig, \n",
    "                                 gs=gs, \n",
    "                                 data=uniform_params, \n",
    "                                 i=i, scenario=scenario, \n",
    "                                 j=j, model=model, \n",
    "                                 y='bse', \n",
    "                                 # hue='sign_diff',\n",
    "                                 # palette={-1: 'b', 1: 'r'},\n",
    "                                 # palette='viridis',\n",
    "                                 ax_ref=ax_)\n",
    "        ax_.set_facecolor('None')\n",
    "        ax_.xaxis.set_tick_params(labelbottom=(i == len(scenario_codes) - 1))\n",
    "        ax_.xaxis.set_major_formatter(ticker.StrMethodFormatter('{x:1.1f}'))\n",
    "        ax_.yaxis.set_major_formatter(ticker.StrMethodFormatter('{x:1.2f}'))\n",
    "        ax_r.append(ax_)\n",
    "    axes.append(ax_r)\n",
    "    \n",
    "predict_df = pd.DataFrame.from_dict(\n",
    "    orient='columns',\n",
    "    data={'icc2': np.linspace(0.05, 0.85, 25) / 0.05,\n",
    "          'seed_effect': np.ones(25) * -0.1,\n",
    "          }\n",
    ")\n",
    "    \n",
    "    \n",
    "bse_fits = dict()\n",
    "for scenario, ax_r in zip(*(scenario_codes, axes)):\n",
    "    for ax, model in zip(*(ax_r, tech_order)):\n",
    "        # if not ((model == 'ignore') & (scenario == 0)):\n",
    "            # continue\n",
    "        m1 = _plot_regression_one_level(\n",
    "            ax_=ax, \n",
    "            data=uniform_params, \n",
    "            scenario=scenario, \n",
    "            model=model, \n",
    "            predict_df=predict_df,\n",
    "            formula='bse ~ icc2 + C(seed_effect)',\n",
    "            # text_kws=dict(va='top'),\n",
    "            ref_scale=0.05,\n",
    "            line_kws=dict(color='r'),\n",
    "            yscale=0.95 - 0.9 * (model in {'meta'}),\n",
    "            text_kws=dict(va={'meta': 'bottom'}.get(model, 'top')),\n",
    "            sig_alpha=0.05/35,\n",
    "            )\n",
    "        bse_fits[(scenario, model)] = m1\n",
    "        \n",
    "plot_ref_scatter(fig=fig, gs=gs, scenarios=scenarios_lo_var, check_mark='s')\n",
    "        \n",
    "ax_l = fig.add_subplot(gs[:, 1:], facecolor='None')\n",
    "ax_l.set_ylabel('$se(\\hat{b})$', size=12, rotation=-90, va='bottom', labelpad=42)\n",
    "ax_l.yaxis.set_label_position('right')\n",
    "ax_l.set_xlabel('ICC', size=12, labelpad=18)\n",
    "ax_l.xaxis.set_tick_params(bottom=False, labelbottom=False, top=False, labeltop=False, length=0, labelsize=0)\n",
    "ax_l.yaxis.set_tick_params(bottom=False, labelbottom=False, top=False, labeltop=False, length=0, labelsize=0)\n",
    "sn.despine(ax=ax_l, left=True, right=True, top=True, bottom=True)"
   ]
  },
  {
   "cell_type": "markdown",
   "id": "30899414-7156-4859-ba0a-7e0b17d8de93",
   "metadata": {},
   "source": [
    "**Figure**. Each row represents a different scenario, where one parameter is varied (the filled in squares indicate what has been changed). From top to bottom: All uniform cohorts, varying source population, varying cohort sizes, selecting cohrots on exposure, outcome enriched-cohorts, confounding by type (NICU cohrots have a different slope, but no difference in outcome), and finally, cohorts have a random slope for smoking as well as a random intercept. The data is modeled under six models (columns) and we extract the standard error for the estimate ($se(\\hat{b}$) and compare to the ICC, a measure of cohort clustering. The scatter shows the estimated error for each simulation and model, the red line gives the fit relationship between ICC and error. The inset m shows the slope of this relationship.\n",
    "\n",
    "<hr>"
   ]
  },
  {
   "cell_type": "markdown",
   "id": "c00b65ff-c180-4b5e-a5ef-363169583733",
   "metadata": {},
   "source": [
    "#### Modeling"
   ]
  },
  {
   "cell_type": "markdown",
   "id": "ab815d62-9872-48b5-8dd7-2f07b3342d83",
   "metadata": {},
   "source": [
    "We're modeling the data with a linear mixed effects model which treats the trial where within a simulation scenario (row in the above plot), we compare the fit for different trials. Because it makes my life easier, I'm using LME as the reference group."
   ]
  },
  {
   "cell_type": "code",
   "execution_count": null,
   "id": "32db12c0-32c8-4ea4-9977-758fdbf1888c",
   "metadata": {},
   "outputs": [],
   "source": []
  },
  {
   "cell_type": "code",
   "execution_count": null,
   "id": "b95d3240-94e5-489d-bc2a-a8b8d5e166d9",
   "metadata": {},
   "outputs": [],
   "source": [
    "model_rep = {\n",
    "    m: a \n",
    "    for m, a in zip(*(['lme', 'ignore', 'risk', 'fixed', 'gee', 'meta'], \n",
    "                      list(\"ABCDEFGHIJKLM\")))\n",
    "    }\n",
    "def compare_across_models_in_scenario(scenario, fit_prop):\n",
    "    \"\"\"\n",
    "    Fits a model looking at the difference in models fits within a scenario\n",
    "    \"\"\"\n",
    "    # Extracts the data an dcleans up to make modeling easier\n",
    "    sub_scenario = uniform_params.xs(scenario, level='scenario').copy()\n",
    "    sub_scenario = sub_scenario[sub_scenario['icc'] >= 0.05].copy()\n",
    "    sub_scenario.reset_index(inplace=True)\n",
    "    sub_scenario.replace({'model': model_rep}, inplace=True)\n",
    "    \n",
    "    # Fits the data\n",
    "    fit_ = smf.mixedlm(f'{fit_prop} ~ model * icc + seed_effect', \n",
    "                       data=sub_scenario, \n",
    "                       groups=sub_scenario['unique_trial']\n",
    "                       ).fit()\n",
    "    \n",
    "    # Pulls the parameters\n",
    "    params = pd.concat(axis=1, objs=[fit_.params, fit_.bse, fit_.tvalues, \n",
    "                                     fit_.pvalues, fit_.conf_int()])\n",
    "    params.columns = ['param', 'bse', 't', 'p', 'ci_lo', 'ci_hi']\n",
    "    \n",
    "    params.drop(index=['Intercept', 'Group Var', 'seed_effect'], inplace=True)\n",
    "    params['model'] = params.index.to_frame()[0].apply(\n",
    "        lambda x: x.split(':')[0].split('[T.')[-1].replace(']', '')\n",
    "        )\n",
    "    params['model'].replace({\"icc\": 'A'}, inplace=True)\n",
    "    params['icc'] = params.index.to_frame()[0].apply(lambda x: 'icc' in x) * 1\n",
    "    params['scenario'] = scenario\n",
    "    \n",
    "    return params.reset_index(drop=True)"
   ]
  },
  {
   "cell_type": "code",
   "execution_count": null,
   "id": "36ecc238-77cc-4284-a022-b2a6481f57fa",
   "metadata": {},
   "outputs": [],
   "source": [
    "within_scenario = pd.concat(\n",
    "    axis=0, \n",
    "    objs=[compare_across_models_in_scenario(scenario, 'bse') \n",
    "          for scenario in scenario_codes]\n",
    ")\n",
    "within_scenario.set_index(['scenario', 'icc', 'model'], inplace=True)\n",
    "within_scenario['q'] = (within_scenario['p'] * len(scenario_codes))\n",
    "within_scenario['q'] = within_scenario['q'].apply(lambda x: min(1, x))\n",
    "within_scenario.replace({'q': {0: 1e-50}}, inplace=True)\n",
    "\n",
    "within_scenario['log_q'] = np.ceil(-np.log10(within_scenario['q'])).astype(int) - \\\n",
    "    ((within_scenario['q'] > 0.05) & (within_scenario['q'] < 0.05)) * 1\n",
    "within_scenario['q_text'] = within_scenario['log_q'].apply(\n",
    "    lambda x: ''.join(['*'] * min(x, 3)))"
   ]
  },
  {
   "cell_type": "code",
   "execution_count": null,
   "id": "16a0c3f1-8a7a-4362-ad9e-d1ed4b38bf3f",
   "metadata": {},
   "outputs": [],
   "source": [
    "wpar_bse_0 = within_scenario.xs(0, level='icc')['param'].unstack()\n",
    "wval_bse_0 = within_scenario.xs(0, level='icc')['q_text'].unstack()\n",
    "wpar_bse_0['A'] = 0\n",
    "wval_bse_0['A'] = '(r)'\n",
    "wpar_bse_0 = wpar_bse_0[['B', 'C', 'D',  'E', 'A', 'F']]\n",
    "wval_bse_0 = wval_bse_0.loc[wpar_bse_0.index, wpar_bse_0.columns]"
   ]
  },
  {
   "cell_type": "code",
   "execution_count": null,
   "id": "bb4fcabb-aff2-48ed-949b-2e51c02eaaee",
   "metadata": {},
   "outputs": [],
   "source": [
    "wpar_bse_1 = within_scenario.xs(1, level='icc')['param'].unstack()\n",
    "wval_bse_1 = within_scenario.xs(1, level='icc')['q_text'].unstack()\n",
    "# wpar_bse_0['A'] = 0\n",
    "# wval_bse_0['A'] = '(r)'\n",
    "wpar_bse_1 = wpar_bse_1[['B', 'C', 'D',  'E', 'A', 'F']]\n",
    "wval_bse_1 = wval_bse_1.loc[wpar_bse_0.index, wpar_bse_0.columns]"
   ]
  },
  {
   "cell_type": "markdown",
   "id": "fb1f8f7e-1ced-44de-acbd-32a0fd180ada",
   "metadata": {},
   "source": [
    "### Accuracy"
   ]
  },
  {
   "cell_type": "markdown",
   "id": "abfc3375-7d6e-479b-b6ff-26311394f66f",
   "metadata": {},
   "source": [
    "I'm also interested in the accuracy of the models, both absolute difference from the seed value and the error."
   ]
  },
  {
   "cell_type": "markdown",
   "id": "141f3957-8a2e-4663-b59c-db0843ce383f",
   "metadata": {},
   "source": [
    "#### Square Figure"
   ]
  },
  {
   "cell_type": "code",
   "execution_count": null,
   "id": "0dda8e39-8266-46ae-86e7-b60bac00ba6a",
   "metadata": {},
   "outputs": [],
   "source": [
    "fig = plt.figure(dpi=150, constrained_layout=0, figsize=(6, 4.5))\n",
    "gs = fig.add_gridspec(6, 7, wspace=0.01, hspace=0.01)\n",
    "\n",
    "ax_ = None\n",
    "axes = []\n",
    "for i, scenario in enumerate(scenario_codes):\n",
    "    ax_r = []\n",
    "    for j, model in enumerate(tech_order):\n",
    "        ax_ = _plot_corr_scatter(fig=fig, \n",
    "                                 gs=gs, \n",
    "                                 data=uniform_params, \n",
    "                                 i=i, scenario=scenario, \n",
    "                                 j=j, model=model, \n",
    "                                 y='abs_diff', \n",
    "                                 # hue='sign_diff',\n",
    "                                 # palette={-1: 'b', 1: 'r'},\n",
    "                                 # palette='viridis',\n",
    "                                 ax_ref=ax_)\n",
    "        ax_.set_facecolor('None')\n",
    "        ax_.xaxis.set_tick_params(labelbottom=(i == len(scenario_codes) - 1))\n",
    "        ax_.xaxis.set_major_formatter(ticker.StrMethodFormatter('{x:1.1f}'))\n",
    "        ax_.yaxis.set_major_formatter(ticker.StrMethodFormatter('{x:1.1f}'))\n",
    "        ax_r.append(ax_)\n",
    "    axes.append(ax_r)\n",
    "    \n",
    "predict_df = pd.DataFrame.from_dict(\n",
    "    orient='columns',\n",
    "    data={'icc2': np.linspace(0.05, 0.85, 25) / 0.05,\n",
    "          'seed_effect': np.ones(25) * -0.1,\n",
    "          }\n",
    ")\n",
    "    \n",
    "    \n",
    "bse_fits = dict()\n",
    "for scenario, ax_r in zip(*(scenario_codes, axes)):\n",
    "    for ax, model in zip(*(ax_r, tech_order)):\n",
    "        # if not ((model == 'ignore') & (scenario == 0)):\n",
    "            # continue\n",
    "        m1 = _plot_regression_one_level(\n",
    "            ax_=ax, \n",
    "            data=uniform_params, \n",
    "            scenario=scenario, \n",
    "            model=model, \n",
    "            predict_df=predict_df,\n",
    "            formula='abs_diff ~ icc2 + C(seed_effect)',\n",
    "            # text_kws=dict(va='top'),\n",
    "            ref_scale=0.05,\n",
    "            line_kws=dict(color='r'),\n",
    "            yscale=0.95,\n",
    "            text_kws=dict(va='top'),\n",
    "            sig_alpha=0.05/35,\n",
    "            )\n",
    "        bse_fits[(scenario, model)] = m1\n",
    "        \n",
    "plot_ref_scatter(fig=fig, gs=gs, scenarios=scenarios_lo_var, check_mark='s')\n",
    "        \n",
    "ax_l = fig.add_subplot(gs[:, 1:], facecolor='None')\n",
    "ax_l.set_ylabel('$| \\\\beta - \\hat{b}|$', size=12, rotation=-90, va='bottom', labelpad=30)\n",
    "ax_l.yaxis.set_label_position('right')\n",
    "ax_l.set_xlabel('ICC', size=12, labelpad=18)\n",
    "ax_l.xaxis.set_tick_params(bottom=False, labelbottom=False, top=False, labeltop=False, length=0, labelsize=0)\n",
    "ax_l.yaxis.set_tick_params(bottom=False, labelbottom=False, top=False, labeltop=False, length=0, labelsize=0)\n",
    "sn.despine(ax=ax_l, left=True, right=True, top=True, bottom=True)"
   ]
  },
  {
   "cell_type": "markdown",
   "id": "98faf02d-31db-444e-a0f1-d091ecff75b1",
   "metadata": {},
   "source": [
    "**Figure**. Each row represents a different scenario, where one parameter is varied (the filled in squares indicate what has been changed). From top to bottom: All uniform cohorts, varying source population, varying cohort sizes, selecting cohorts on exposure, outcome enriched-cohorts, confounding by type (NICU cohrots have a different slope, but no difference in outcome), and finally, cohorts have a random slope for smoking as well as a random intercept. The data is modeled under six models (columns) and we extract the difference from the estimate and the original value ($|\\beta_{seed} - \\hat{b}|$) and compare to the ICC, a measure of cohort clustering. The scatter shows the difference for each model. Blue points are less than the original estimate, red points are greater than the estimate.\n",
    "\n",
    "<hr>"
   ]
  },
  {
   "cell_type": "markdown",
   "id": "6d940552-a77b-42c1-85ca-f3e9b316283a",
   "metadata": {},
   "source": [
    "We can look at the same plot, but allowing for sign varaition"
   ]
  },
  {
   "cell_type": "code",
   "execution_count": null,
   "id": "ec54022c-03ec-4ec2-8fc7-6eba07f0a3bb",
   "metadata": {},
   "outputs": [],
   "source": [
    "within_scenario_acc = pd.concat(\n",
    "    axis=0, \n",
    "    objs=[compare_across_models_in_scenario(scenario, 'abs_diff') \n",
    "          for scenario in scenario_codes]\n",
    ")\n",
    "within_scenario_acc.set_index(['scenario', 'icc', 'model'], inplace=True)\n",
    "within_scenario_acc['q'] = (within_scenario_acc['p'] * len(scenario_codes))\n",
    "within_scenario_acc['q'] = within_scenario_acc['q'].apply(lambda x: min(1, x))\n",
    "within_scenario_acc.replace({'q': {0: 1e-50}}, inplace=True)\n",
    "\n",
    "within_scenario_acc['log_q'] = \\\n",
    "    np.ceil(-np.log10(within_scenario_acc['q'])).astype(int) - \\\n",
    "    ((within_scenario_acc['q'] > 0.05) & (within_scenario_acc['q'] < 0.05)) * 1\n",
    "within_scenario_acc['q_text'] = within_scenario_acc['log_q'].apply(\n",
    "    lambda x: ''.join(['*'] * min(x, 3)))"
   ]
  },
  {
   "cell_type": "code",
   "execution_count": null,
   "id": "00f12717-48f6-49a3-8a37-2b2204d7c773",
   "metadata": {},
   "outputs": [],
   "source": [
    "wpar_acc_0 = within_scenario_acc.xs(0, level='icc')['param'].unstack()\n",
    "wval_acc_0 = within_scenario_acc.xs(0, level='icc')['q_text'].unstack()\n",
    "wpar_acc_0['A'] = 0\n",
    "wval_acc_0['A'] = '(r)'\n",
    "wpar_acc_0 = wpar_acc_0[['B', 'C', 'D',  'E', 'A', 'F']]\n",
    "wval_acc_0 = wval_acc_0.loc[wpar_acc_0.index, wpar_acc_0.columns]"
   ]
  },
  {
   "cell_type": "code",
   "execution_count": null,
   "id": "491914ba-239f-4853-a821-1c005825fef9",
   "metadata": {},
   "outputs": [],
   "source": [
    "wpar_acc_1 = within_scenario_acc.xs(1, level='icc')['param'].unstack()\n",
    "wval_acc_1 = within_scenario_acc.xs(1, level='icc')['q_text'].unstack()\n",
    "wpar_acc_1 = wpar_acc_1[['B', 'C', 'D',  'E', 'A', 'F']]\n",
    "wval_acc_1 = wval_acc_1.loc[wpar_acc_1.index, wpar_acc_1.columns]"
   ]
  },
  {
   "cell_type": "markdown",
   "id": "c63a329f-2d78-4d30-a2ef-da6c51c33f02",
   "metadata": {},
   "source": [
    "### Summary"
   ]
  },
  {
   "cell_type": "markdown",
   "id": "41964ad9-653b-4c64-9426-826f4f12d74f",
   "metadata": {},
   "source": [
    "### Summary Figure"
   ]
  },
  {
   "cell_type": "code",
   "execution_count": null,
   "id": "c8859325-eb44-45db-9b55-4c42b4638e72",
   "metadata": {},
   "outputs": [],
   "source": [
    "hm_kwargs = dict( fmt='s', annot_kws=dict(fontsize=7), linewidth=0.25, linecolor='k',)\n",
    "\n",
    "def format_cbar(ax_cbar, label='', center=0):\n",
    "    \"\"\"\n",
    "    Cleans up the colorbar axes\n",
    "    \"\"\"\n",
    "    ax_cbar.set_yticks([ax_cbar.get_ylim()[0], 0, ax_cbar.get_ylim()[1]])\n",
    "    ax_cbar.set_ylim(ax_cbar.get_ylim()[::-1])\n",
    "    ax_cbar.set_yticklabels(['$\\leftarrow$more', center, 'less$\\\\rightarrow$'],\n",
    "                            rotation=-90)\n",
    "    for l, orient in zip(*(ax_cbar.get_yticklabels(), ['top', 'center', 'bottom'])):\n",
    "        l.set_va(orient)\n",
    "        l.set_size(8)\n",
    "    ax_cbar.set_ylabel(label, size=10, rotation=-90, labelpad=12)\n",
    "    ax_cbar.yaxis.set_tick_params(right=False, length=0)\n",
    "\n",
    "scenario_map = np.vstack([b for b, _, _ in scenarios_lo_var])\n",
    "labelx = np.vstack([np.linspace(0, 1, 4)] * len(scenario_map))\n",
    "labely = np.vstack([np.ones(4) * y + 0.5 for y in range(len(scenario_map))])\n",
    "maskx = np.hstack((labelx + 0.1) * scenario_map)\n",
    "maskx = maskx[maskx > 0] - 0.1\n",
    "masky = np.hstack(labely * scenario_map)\n",
    "masky = masky[masky > 0]"
   ]
  },
  {
   "cell_type": "code",
   "execution_count": null,
   "id": "cedadc3e-84fd-416b-9093-a34fce751c17",
   "metadata": {},
   "outputs": [],
   "source": [
    "fig = plt.figure(dpi=300, constrained_layout=True)\n",
    "gs = fig.add_gridspec(2, 7)\n",
    "\n",
    "axla1 = fig.add_subplot(gs[1, 0])\n",
    "axhm10 = fig.add_subplot(gs[1, 1:4], sharey=axla1)\n",
    "axhm11 = fig.add_subplot(gs[1, 4:7], sharey=axla1)\n",
    "axla0 = fig.add_subplot(gs[0, 0], sharex=axla1)\n",
    "axhm00 = fig.add_subplot(gs[0, 1:4], sharey=axla0, sharex=axhm10)\n",
    "axhm01 = fig.add_subplot(gs[0, 4:7], sharey=axla0, sharex=axhm11)\n",
    "\n",
    "hm_data = [[wpar_bse_0, wval_bse_0, axhm10, 'Percision', 'RdBu', 'LME'],\n",
    "           [wpar_bse_1, wval_bse_1, axhm11, 'Percision', 'RdBu', '0'],\n",
    "           [wpar_acc_0, wval_acc_0, axhm00, 'Accuracy', 'PuOr', 'LME'],\n",
    "           [wpar_acc_1, wval_acc_1, axhm01, 'Accuracy', 'PuOr', '0'],\n",
    "          ]\n",
    "for param, annot, ax, lab, cmap, center in hm_data:\n",
    "    extreme = np.absolute(param).max().max()\n",
    "    # Plots the heatmap\n",
    "    sn.heatmap(data=param, \n",
    "               annot=annot,\n",
    "               ax=ax,\n",
    "               cmap=cmap,\n",
    "               vmin=-extreme,\n",
    "               vmax=extreme,\n",
    "               **hm_kwargs,\n",
    "              )\n",
    "    # Tidies the x axis\n",
    "    ax.set_xticklabels(\n",
    "        [tidy_short.get(model, model.title()) for model in tech_order], \n",
    "        rotation=90, size=8)\n",
    "    ax.xaxis.set_tick_params(bottom=False, top=False, length=0)\n",
    "    ax.xaxis.get_label().set_visible(False)\n",
    "    \n",
    "    # Tidies the yaxis\n",
    "    ax.yaxis.set_tick_params(left=False, labelleft=False,\n",
    "                             right=False, labelright=False)\n",
    "    ax.yaxis.get_label().set_visible(False)\n",
    "    \n",
    "    # Cleans up the colorbar\n",
    "    format_cbar(fig.axes[-1], lab, center)\n",
    "    sn.despine(ax=ax, left=False, right=False, top=False, bottom=False)\n",
    "\n",
    "\n",
    "\n",
    "for ax in [axla1, axla0]:\n",
    "    \n",
    "    \n",
    "    ax.scatter(np.hstack(labelx), np.hstack(labely), \n",
    "                  marker='s',\n",
    "                  edgecolor='k',\n",
    "                  facecolor='None',\n",
    "                  )\n",
    "    ax.scatter(np.hstack(maskx), np.hstack(masky), \n",
    "                  marker='s',\n",
    "                  edgecolor='k',\n",
    "                  facecolor='k',\n",
    "                  )\n",
    "    ax.set_xlim([-0.2, 1.2])\n",
    "    ax.set_xticks(np.linspace(0, 1, 4))\n",
    "\n",
    "    ax.yaxis.set_tick_params(left=False, labelleft=False)\n",
    "    ax.set_xticklabels(['Population', 'Cohort size', 'Exposure', 'Outcome'], size=8, rotation=90)\n",
    "    ax.xaxis.set_tick_params(bottom=False, top=False, length=0)\n",
    "    sn.despine(ax=ax, left=True, right=True, top=True, bottom=True)\n",
    "\n",
    "for ax in [axla0, axhm00, axhm01]:\n",
    "    ax.xaxis.set_tick_params(labelbottom=False, labeltop=True)\n",
    "    \n",
    "axhm00.set_title('Baseline')\n",
    "axhm01.set_title('As clustering increases')"
   ]
  },
  {
   "cell_type": "markdown",
   "id": "c2d36a51-ff6b-4a10-b751-36785b133e1e",
   "metadata": {},
   "source": [
    "I think the data shows the following three things:\n",
    "\n",
    "1. The precision of models that ignore clustering decreases (the error increases) as the amount of cohort clustering increases. This is not seen in any other model that accounts for clustering.\n",
    "2. Selection on exposure, rather than selection on outcome, affects the accuracy of models which ignore cohort effects, both the baseline accuracy and accuracy as a function of clustering. \n",
    "    * We should test this with filtering: does performance improve if we filter out cohorts that are exposed/unexposed\n",
    "3. Mixing cohort types and not accounting for slope differences creates a bias, but doesn't substantially effect precision\n",
    "4. Random slopes seem to affect GEE performance, but not any of the other models"
   ]
  },
  {
   "cell_type": "markdown",
   "id": "c6839b76-e09f-4723-baf9-d1e1d480a3c5",
   "metadata": {},
   "source": [
    "# Low ICCs and Clustering"
   ]
  },
  {
   "cell_type": "markdown",
   "id": "03e24ea9-d364-4448-901e-b10c976526c4",
   "metadata": {},
   "source": [
    "Amii and Emily were super interested in figuring out the threshhold below which ICC doesn't matter. The case where we selected on exposure had the largest effect on clustering, so I think we want to look at the effect of ICC on the relationships"
   ]
  },
  {
   "cell_type": "code",
   "execution_count": null,
   "id": "04c03ca9-db4c-4a92-a1f9-5d195ca00ccc",
   "metadata": {},
   "outputs": [],
   "source": [
    "worst_case = uniform_params.xs(4, level='scenario')\n",
    "worst_case_lo = worst_case.loc[(worst_case['icc'] < 0.15) & (worst_case['icc'] > 0)].copy()\n",
    "worst_case_lo_w = worst_case_lo.reset_index().pivot(\n",
    "    index=['unique_trial', 'icc'],\n",
    "    columns=['model'],\n",
    "    values='from_ref',\n",
    ")\n",
    "worst_case_lo_w.dropna(inplace=True)\n",
    "wc_from_lme = worst_case_lo_w - worst_case_lo_w[['lme']].values\n",
    "wc_from_lme.reset_index(level='icc', inplace=True)\n",
    "worst_case_lo_w.reset_index(level='icc', inplace=True)\n",
    "wc_from_lme['icc_cat'] = wc_from_lme['icc'].apply(\n",
    "    lambda x: np.sum([x > t for t in [0.01, 0.05, 0.1]]))\n",
    "worst_case_lo_w['icc_cat'] = worst_case_lo_w['icc'].apply(\n",
    "    lambda x: np.sum([x > t for t in [0.01, 0.05, 0.1]]))\n"
   ]
  },
  {
   "cell_type": "code",
   "execution_count": null,
   "id": "5b8cf0e2-7ec0-48a3-a02b-10982ce492ec",
   "metadata": {},
   "outputs": [],
   "source": []
  },
  {
   "cell_type": "code",
   "execution_count": null,
   "id": "5d7ecb97-c5c0-4c85-9b50-33e069c09216",
   "metadata": {},
   "outputs": [],
   "source": [
    "fig, axes = plt.subplots(1, 4, sharey=True,\n",
    "                         dpi=150, constrained_layout=True, figsize=(6, 2))\n",
    "for i, (ax0, tech) in enumerate(zip(*(axes, ['ignore', 'fixed', 'gee', 'meta']))):\n",
    "    sn.stripplot(x='icc_cat', y=tech, data=wc_from_lme, \n",
    "                 marker='.', s=5, jitter=0.225, color='#525252',\n",
    "                 ax=ax0)\n",
    "    ax0.set_ylabel('$|\\\\Delta| - |\\\\Delta_{LME}|$')\n",
    "    ax0.yaxis.get_label().set_visible(i == 0)\n",
    "    ax0.yaxis.set_tick_params(left=True, labelleft=(i == 0), labelsize=8)\n",
    "    ax0.set_xticklabels(['0.01', '0.05', '0.10', '0.15'],\n",
    "                       size=8)\n",
    "    ax0.set_xlabel('ICC Threshhold')\n",
    "    ax0.set_title(tidy_short.get(tech, tech.title()))"
   ]
  },
  {
   "cell_type": "code",
   "execution_count": null,
   "id": "4b08c9fc-fbc9-448e-9107-e6087d77c1f2",
   "metadata": {},
   "outputs": [],
   "source": []
  },
  {
   "cell_type": "markdown",
   "id": "60b87fae-dfa8-4481-bd2c-0036e2370058",
   "metadata": {},
   "source": [
    "# Filtering"
   ]
  },
  {
   "cell_type": "markdown",
   "id": "b3c2c684-9060-4775-b49c-4fcbdad65e06",
   "metadata": {},
   "source": [
    "I want to look at the effect of filtering on model performance. I think we need models that vary size and source population, and then either introduce the factors or introduce a combination of factors. "
   ]
  },
  {
   "cell_type": "code",
   "execution_count": null,
   "id": "f5631ee4-ce54-494f-809c-85340c85a65f",
   "metadata": {},
   "outputs": [],
   "source": [
    "%%capture\n",
    "\n",
    "fit_eq = 'm_age + year + C(race) + C(sex) + C(ethnicity)'\n",
    "filtering_res = dict()\n",
    "sim_count = 0\n",
    "_, seed_func, seed_kwargs = scenarios_vv[0]\n",
    "for effect, (icc, var) in it.product(effects, seed_var.items()):\n",
    "    filtering_res[(effect, icc)] = []\n",
    "    for i in range(num_sim):\n",
    "        # Simulates the data\n",
    "        sim_seeds = seed_func(**seed_kwargs, num_cohorts=20)\n",
    "        data, _ = bw_sim.simulate_cohort(**sim_seeds,\n",
    "                                          betas=slopes,\n",
    "                                          icc=var,\n",
    "                                          smoking_effect=effect,\n",
    "                                          exposure_demo_mod=smoking_effect,\n",
    "                                          rescale=False,\n",
    "                                          )\n",
    "        # Caclulates the ICC and the general cohort ICC\n",
    "        fit = smf.mixedlm('y ~ 1', data=data, groups=data['cohort']).fit()\n",
    "        fit_icc = bw_ana.icc_from_lme(fit)\n",
    "        if (icc >= 1) | (icc < 0) | np.any(np.trace(fit.cov_params()) < 0):\n",
    "            fit_icc = 0\n",
    "        if len(data['cohort_type'].unique()) > 1:\n",
    "            data2 = data.loc[data['cohort_type'].isin(['0', 0])].copy()\n",
    "            fit2 = smf.mixedlm('y ~ 1', \n",
    "                               data=data2, \n",
    "                               groups=data2['cohort']).fit()\n",
    "            fit_icc2 = bw_ana.icc_from_lme(fit2)\n",
    "            if (fit_icc2 >= 1) | (fit_icc2 < 0) | np.any(np.trace(fit2.cov_params()) < 0):\n",
    "                fit_icc2 = 0\n",
    "        else:\n",
    "            fit_icc2 = fit_icc\n",
    "         # Filts the data and model\n",
    "        model_adj = {\n",
    "            (name, fname): model(fit_icc2, f_(data), fit_eq) \n",
    "            for (name, model) in zip(*(tech_order, models))\n",
    "            for (fname, f_) in filters.items()\n",
    "            }\n",
    "        summary = {'data': data, \n",
    "                   'fit_icc': fit_icc2,\n",
    "                   'adj': model_adj,\n",
    "                   'id_': sim_count\n",
    "                   }\n",
    "        filtering_res[(effect, icc)].append(summary)\n",
    "        \n",
    "        sim_count += 1\n"
   ]
  },
  {
   "cell_type": "code",
   "execution_count": null,
   "id": "fdef87c6-7545-4e32-a3c9-92e63e79a937",
   "metadata": {},
   "outputs": [],
   "source": [
    "extracted_params = pd.DataFrame.from_dict(\n",
    "    data={(15, eff, seed_icc, i, name, filt_, adj, icc, conv * 1, ds['id_']): params\n",
    "          for (seed_icc, eff), eff_combo in filtering_res.items()\n",
    "          for i, ds in enumerate(eff_combo)\n",
    "          for adj in ['adj']\n",
    "          for (model, filt_), (icc, fit_, params, conv, name) in ds[adj].items()\n",
    "          },\n",
    "    orient='index',\n",
    ")\n",
    "extracted_params.index.set_names(['scenario', 'seed_icc', 'seed_effect', \n",
    "                                  'iter', 'model', 'filter', 'adjustment', \n",
    "                                  'icc', 'converged', 'trial'],\n",
    "                                 inplace=True)\n",
    "extracted_params.reset_index(level='adjustment', inplace=True, drop=True)"
   ]
  },
  {
   "cell_type": "code",
   "execution_count": null,
   "id": "26bd299f-3547-4fa2-a0b5-fe933c5940e4",
   "metadata": {},
   "outputs": [],
   "source": []
  },
  {
   "cell_type": "code",
   "execution_count": null,
   "id": "4564becb-8e59-4c38-af2e-e0bac158ee0f",
   "metadata": {},
   "outputs": [],
   "source": [
    "filt_study2 = extracted_params.loc[extracted_params.reset_index()[['converged', 'model']].isin([1, 'meta']).any(axis=1).values].copy()\n",
    "filt_study2.reset_index(level=['seed_effect', 'icc', 'trial'], inplace=True)\n",
    "filt_study2['from_ref'] = filt_study2['param'] - filt_study2['seed_effect']\n",
    "filt_study2['abs_diff'] = np.absolute(filt_study2['from_ref'])\n",
    "filt_study2['sign'] = np.sign(filt_study2['from_ref'])"
   ]
  },
  {
   "cell_type": "code",
   "execution_count": null,
   "id": "93f9f7a2-7c14-4021-87eb-ff0399b180bb",
   "metadata": {},
   "outputs": [],
   "source": [
    "error_wide = filt_study2.reset_index().pivot(\n",
    "    index=['scenario', 'seed_icc', 'seed_effect', 'model', 'trial'],\n",
    "    columns='filter',\n",
    "    values='bse'\n",
    ")\n",
    "error_wide2 = np.log2(error_wide.div(error_wide['none'], axis=0))"
   ]
  },
  {
   "cell_type": "code",
   "execution_count": null,
   "id": "2194acfd-484f-4ecd-8639-2d3865de37c7",
   "metadata": {},
   "outputs": [],
   "source": [
    "acc_wide = filt_study2.reset_index().pivot(\n",
    "    index=['scenario', 'seed_icc', 'seed_effect', 'model', 'trial'],\n",
    "    columns='filter',\n",
    "    values='abs_diff'\n",
    ")\n",
    "acc_wide2 = (acc_wide - acc_wide[['none']].values)"
   ]
  },
  {
   "cell_type": "code",
   "execution_count": null,
   "id": "a23dc0d0-7496-4947-a198-e1f8ec96daf0",
   "metadata": {},
   "outputs": [],
   "source": [
    "long_acc = acc_wide2.reset_index().melt(\n",
    "    id_vars=['scenario', 'seed_icc', 'seed_effect', 'model', 'trial']\n",
    ")\n",
    "long_acc['filter'] = pd.Categorical(long_acc['filter'], list(filters.keys()), ordered=True)\n",
    "long_acc.set_index(['scenario', 'seed_icc', 'seed_effect', 'model', 'trial'], \n",
    "                    inplace=True)"
   ]
  },
  {
   "cell_type": "code",
   "execution_count": null,
   "id": "9364e3ab-a2a7-4515-8d8e-a9694daa62e4",
   "metadata": {},
   "outputs": [],
   "source": [
    "list(filters.keys())"
   ]
  },
  {
   "cell_type": "code",
   "execution_count": null,
   "id": "c65630b0-47e7-49cf-b853-97d65e54e5b0",
   "metadata": {},
   "outputs": [],
   "source": [
    "# long_acc.groupby(['model', 'filter'])['value'].describe()"
   ]
  },
  {
   "cell_type": "code",
   "execution_count": null,
   "id": "5117282f-048d-423a-8806-79b9822284ba",
   "metadata": {},
   "outputs": [],
   "source": [
    "long_err = error_wide2.reset_index().melt(\n",
    "    id_vars=['scenario', 'seed_icc', 'seed_effect', 'model', 'trial']\n",
    ")\n",
    "long_err['filter'] = pd.Categorical(long_err['filter'], list(filters.keys()), \n",
    "                                    ordered=True)\n",
    "long_err.set_index(['scenario', 'seed_icc', 'seed_effect', 'model', 'trial'], \n",
    "                    inplace=True)"
   ]
  },
  {
   "cell_type": "code",
   "execution_count": null,
   "id": "e16ff1a2-df04-432b-b074-f4b72d0af6e9",
   "metadata": {},
   "outputs": [],
   "source": []
  },
  {
   "cell_type": "code",
   "execution_count": null,
   "id": "695f1095-8cb7-4d07-a238-9c6b3d17ba5d",
   "metadata": {},
   "outputs": [],
   "source": []
  },
  {
   "cell_type": "code",
   "execution_count": null,
   "id": "78d1c107-d439-4723-afae-8ab579283f5f",
   "metadata": {},
   "outputs": [],
   "source": [
    "fig, [axes0, axes1] = plt.subplots(2, 6, \n",
    "                                   sharex=True,\n",
    "                                   dpi=150,\n",
    "                                   constrained_layout=True, \n",
    "                                   figsize=(6, 3.5))\n",
    "\n",
    "ylim = []\n",
    "acc_fits = []\n",
    "for ax, model in zip(*(axes0, tech_order)):\n",
    "    data_ = long_acc.xs(model, level='model').copy().dropna()\n",
    "    fit_ = smf.mixedlm('value ~ filter',\n",
    "                       data=data_.reset_index(),\n",
    "                       groups=data_.reset_index()['trial']\n",
    "                      ).fit()\n",
    "    \n",
    "    sn.boxplot(\n",
    "        x='filter', y='value', \n",
    "        data=data_,\n",
    "        order=['none', 'small', 'only', 'general', 'all', 'other'],\n",
    "        fliersize=0.5,\n",
    "        linewidth=1,\n",
    "        boxprops={'facecolor': '#bdbdbd'},\n",
    "        whis=3,\n",
    "        ax=ax,\n",
    "        )\n",
    "\n",
    "    ylim.append(ax.get_ylim())\n",
    "    acc_fits.append(fit_)\n",
    "\n",
    "    ax.yaxis.set_tick_params(left=True, labelleft=(model == 'ignore'))\n",
    "    ax.yaxis.get_label().set_visible((model == 'ignore'))\n",
    "    axi.yaxis.get_label().set_visible((False))\n",
    "    ax.xaxis.get_label().set_visible(False)\n",
    "    ax.xaxis.set_tick_params(bottom=False, rotation=-90, length=0)\n",
    "    axi.xaxis.get_label().set_visible(False)\n",
    "    ax.set_title(tidy_short.get(model, model.title()), size=10)\n",
    "    \n",
    "new_lim = [np.vstack(ylim).min(), np.vstack(ylim).max()]\n",
    "new_diff = np.diff(new_lim)\n",
    "yticks = np.arange(np.floor(new_lim[0] * 2) / 2, \n",
    "                   np.ceil((new_lim[1] + new_diff * 0.1) * 2) / 2 + 0.1, \n",
    "                   0.5)\n",
    "\n",
    "for ax, fit_ in zip(*(axes0, acc_fits)):\n",
    "    ax.set_yticks(yticks)\n",
    "    ax.set_ylim(new_lim[0], new_lim[1] + 0.1 * new_diff)\n",
    "    p_ = fit_.pvalues.drop(['Group Var']) * len(tech_order)\n",
    "    p_ = p_.mask(p_ < 1e-25, 1e-25)\n",
    "    p_ = np.floor(-np.log10(p_)).mask(p_ > 0.05, 0).astype(int)\n",
    "    p_.mask(p_ > 3, 3, inplace=True)\n",
    "    p_.reset_index(drop=True, inplace=True)\n",
    "    p_ = p_.apply(lambda x: ''.join(['*'] * x))\n",
    "    \n",
    "    for i, v in p_[1:].items():\n",
    "        ax.text(i, new_lim[1] + new_diff * 0.05, v, ha='center', va='center', \n",
    "                size=5)\n",
    "        \n",
    "        \n",
    "ylim = []\n",
    "perc_fits = []\n",
    "for model, ax in zip(*(tech_order, axes1)):\n",
    "    data_ = long_err.xs(model, level='model').copy().dropna()\n",
    "    fit_ = smf.mixedlm('value ~ filter',\n",
    "                       data=data_.reset_index(),\n",
    "                       groups=data_.reset_index()['trial']\n",
    "                      ).fit()\n",
    "    sn.boxplot(\n",
    "        x='filter', y='value', \n",
    "        data=data_,\n",
    "        order=['none', 'small', 'only', 'general', 'all', 'other'],\n",
    "        fliersize=1,\n",
    "        linewidth=1,\n",
    "        boxprops={'facecolor': '#bdbdbd'},\n",
    "        ax=ax,\n",
    "        )\n",
    "    perc_fits.append(fit_)\n",
    "    ylim.append(ax.get_ylim())\n",
    "    ax.yaxis.set_tick_params(left=True, labelleft=(model == 'ignore'))\n",
    "    ax.yaxis.get_label().set_visible((model == 'ignore'))\n",
    "    ax.xaxis.get_label().set_visible(False)\n",
    "    ax.xaxis.set_tick_params(bottom=False)\n",
    "    ax.set_xticklabels(['None', '$<$30', 'mixed exp.', 'general', 'all', 'confounder'])\n",
    "    \n",
    "new_lim = [np.vstack(ylim).min(), np.vstack(ylim).max()]\n",
    "new_diff = np.diff(new_lim)\n",
    "# yticks = np.arange(np.floor(new_lim[0] * 4) / 4, \n",
    "#                    np.ceil((new_lim[1] + new_diff * 0.1) * 4) / 4 + 0.1, \n",
    "#                    0.25)\n",
    "\n",
    "for ax, p_ in zip(*(axes1, fits)):\n",
    "    ax.set_yticks(yticks)\n",
    "    ax.set_ylim(new_lim[0], new_lim[1] + 0.1 * new_diff)\n",
    "    ax.set_yticks(yticks)\n",
    "#     p_ = p_.mask(p_ < 1e-3, 1e-3)\n",
    "#     p_ = np.floor(-np.log10(p_)).mask(p_ > 0.05, 0).astype(int)\n",
    "#     p_.mask(p_ > 1, 1, inplace=True)\n",
    "#     p_.reset_index(drop=True, inplace=True)\n",
    "#     p_ = p_.apply(lambda x: ''.join(['*'] * x))\n",
    "    \n",
    "#     for i, v in p_[1:].items():\n",
    "#         ax.text(i, new_lim[1] + new_diff * 0.05, v, \n",
    "#                 ha='center', va='center', size=5)\n",
    "        \n",
    "    for l in ax.get_xticklabels():\n",
    "        l.set_rotation(-90)\n",
    "\n",
    "axes0[0].set_ylabel('$\\Delta - \\Delta_{0}$')\n",
    "axes1[0].set_ylabel(\n",
    "    '$\\log_{2} \\\\left ( \\\\frac{se(\\hat{b})}{se(\\hat{b})_{{none}}} \\\\right )$', \n",
    "    size=12)"
   ]
  },
  {
   "cell_type": "code",
   "execution_count": null,
   "id": "2ac95d23-ba0b-44a6-a764-89e51df6a848",
   "metadata": {},
   "outputs": [],
   "source": [
    "def _fit_extract(data_, filter_order):\n",
    "    \"\"\"\n",
    "    Fits a long fitler model and gets the parameters\n",
    "    \"\"\"\n",
    "    data_.replace({'filter': {v: i for i, v in enumerate(filter_order)}},\n",
    "                  inplace=True)\n",
    "    fit_ = smf.mixedlm('value ~ C(filter)',\n",
    "                       data=data_.reset_index(),\n",
    "                       groups=data_.reset_index()['trial']\n",
    "                       ).fit()\n",
    "    df = pd.DataFrame({\n",
    "        'param': fit_.params.drop(['Group Var']),\n",
    "        'width': (fit_.conf_int()[1] - fit_.params).drop(['Group Var']),\n",
    "        'pvalue': fit_.pvalues.drop(['Group Var'])\n",
    "        })\n",
    "    df.loc['Intercept', ['param', 'width', 'pvalue']] = [0, np.nan, 1]\n",
    "    df['x'] = np.arange(len(x))\n",
    "    df['filter'] = filter_order\n",
    "    df.reset_index(drop=True, inplace=True)\n",
    "    return df\n",
    "\n",
    "_fit_extract(data_, filter_order)"
   ]
  },
  {
   "cell_type": "code",
   "execution_count": null,
   "id": "ee707f6e-6605-4820-8740-27362aea3abb",
   "metadata": {},
   "outputs": [],
   "source": [
    "error_kwargs = dict(linestyle='', marker='o', capsize=5, color='k', markersize=5, zorder=2)"
   ]
  },
  {
   "cell_type": "code",
   "execution_count": null,
   "id": "f69b1238-ca1c-437d-9a4f-f2bddc729070",
   "metadata": {},
   "outputs": [],
   "source": [
    "fig, axes = plt.subplots(2, 6, \n",
    "                                   sharex=True,\n",
    "                                   dpi=150,\n",
    "                                   constrained_layout=True, \n",
    "                                   figsize=(6, 3.5))\n",
    "\n",
    "for i, (axr, ref_df) in enumerate(zip(*(axes, [long_acc, long_err]))):\n",
    "    ylim = []\n",
    "    for ax, model in zip(*(axr, tech_order)):\n",
    "        data_ = ref_df.xs(model, level='model').copy().dropna()\n",
    "        fit_df = _fit_extract(data_, filter_order).drop([0])\n",
    "        ax.errorbar(x='x', y='param', yerr='width',\n",
    "                    data=fit_df.loc[fit_df['pvalue'] >= 0.05],\n",
    "                    markerfacecolor='w',\n",
    "                    **error_kwargs)\n",
    "        ax.errorbar(x='x', y='param', yerr='width',\n",
    "                    data=fit_df.loc[fit_df['pvalue'] < 0.05],\n",
    "                    **error_kwargs)\n",
    "\n",
    "        ylim.append(ax.get_ylim())\n",
    "        ax.set_xticks(fit_df['x'])\n",
    "        ax.set_xticklabels(['$<$30', 'mixed exp.', 'general', 'all', 'confounder'], \n",
    "                           rotation=90, size=8)\n",
    "        ax.plot([-1, 10], [0, 0], 'k:', linewidth=1)\n",
    "        ax.set_xlim(fit_df['x'].min() - 0.5, fit_df['x'].max() + 0.5)\n",
    "        ax.xaxis.set_tick_params(bottom=False, labelbottom=(i == 1), \n",
    "                                 labelsize=8, length=0)\n",
    "        if i == 0:\n",
    "            ax.set_title(tidy_short.get(model, model.title()), size=10)\n",
    "\n",
    "    ymost = [np.hstack(ylim).min(), np.hstack(ylim).max()]\n",
    "    for i, ax in enumerate(axr):\n",
    "        ax.set_ylim(ymost)\n",
    "        ax.yaxis.set_tick_params(left=True, labelleft=(i == 0), labelsize=8)\n",
    "\n",
    "axes[0][0].set_ylabel('$\\Delta_{none} - \\Delta$')\n",
    "axes[1][0].set_ylabel(\n",
    "    '$\\log_{2} \\\\left ( \\\\frac{se(\\hat{b})}{se(\\hat{b})_{{none}}} \\\\right )$', \n",
    "    size=12)"
   ]
  },
  {
   "cell_type": "code",
   "execution_count": null,
   "id": "2cc9e493-3563-49b4-9da8-d26ca21d3e13",
   "metadata": {},
   "outputs": [],
   "source": [
    "fit_df"
   ]
  },
  {
   "cell_type": "markdown",
   "id": "5d86e414-fb99-48fc-b91b-90cc9968685d",
   "metadata": {},
   "source": [
    "# Leave One out"
   ]
  },
  {
   "cell_type": "markdown",
   "id": "74c18152-a5b5-44ff-8021-54c7966fec63",
   "metadata": {},
   "source": [
    "Finally, I want to see if I can understand the characteristics of a cohort that affect the effect estimate in leave one out filtering."
   ]
  },
  {
   "cell_type": "code",
   "execution_count": null,
   "id": "6f47afc9-df5f-4e6c-9232-a8d3ec523215",
   "metadata": {},
   "outputs": [],
   "source": [
    "ds = uniform_data[15][(-0.5, 0.4)][0]['data']"
   ]
  },
  {
   "cell_type": "code",
   "execution_count": null,
   "id": "1cb492cc-acc6-4064-a77d-01aa4f81ab8d",
   "metadata": {},
   "outputs": [],
   "source": [
    "race_cohort = ds.groupby(['cohort', 'race'])['y'].count()\n",
    "eth_cohort = ds.groupby(['cohort', 'ethnicity'])['y'].count()\n",
    "sex_cohort =  ds.groupby(['cohort', 'ethnicity'])['y'].count()\n",
    "age_cohort = ds.groupby(['cohort'])['m_age'].describe()\n",
    "year_cohort = ds.groupby(['cohort'])['year'].describe()\n",
    "cohort_type = ds.groupby(['cohort'])['cohort_type'].first()\n",
    "exposed = ds.groupby(['cohort'])['smoking'].mean()"
   ]
  },
  {
   "cell_type": "code",
   "execution_count": null,
   "id": "629485f2-41c2-4b39-a86e-8d741944b310",
   "metadata": {},
   "outputs": [],
   "source": []
  },
  {
   "cell_type": "code",
   "execution_count": null,
   "id": "8faf2365-57a8-47c0-a175-552037300e3e",
   "metadata": {},
   "outputs": [],
   "source": []
  }
 ],
 "metadata": {
  "kernelspec": {
   "display_name": "Python 3 (ipykernel)",
   "language": "python",
   "name": "python3"
  },
  "language_info": {
   "codemirror_mode": {
    "name": "ipython",
    "version": 3
   },
   "file_extension": ".py",
   "mimetype": "text/x-python",
   "name": "python",
   "nbconvert_exporter": "python",
   "pygments_lexer": "ipython3",
   "version": "3.10.15"
  }
 },
 "nbformat": 4,
 "nbformat_minor": 5
}
